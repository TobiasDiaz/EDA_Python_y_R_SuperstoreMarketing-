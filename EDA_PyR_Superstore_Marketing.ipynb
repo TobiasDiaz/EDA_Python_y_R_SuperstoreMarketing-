{
 "cells": [
  {
   "cell_type": "markdown",
   "id": "8a6c82b8-e3e6-442c-8ef4-85cf5500281f",
   "metadata": {},
   "source": [
    "# **Exploratory Data Analysis (EDA)**\n"
   ]
  },
  {
   "cell_type": "markdown",
   "id": "e97a0b34-cd71-429c-ba47-41209e15588e",
   "metadata": {},
   "source": [
    "#### Tarea 3"
   ]
  },
  {
   "cell_type": "markdown",
   "id": "c597e61e-af81-4c8b-b121-89de4b05f5bb",
   "metadata": {},
   "source": [
    "Traducción a español y tropicalización: `Tobias Alexander Santamaria Diaz`\n",
    "\n",
    "Dataset a utilizar: https://www.kaggle.com/datasets/ahsan81/superstore-marketing-campaign-dataset/data\n",
    "\n",
    "Objetivos del Proyecto:\n",
    "\n",
    "Explorar un conjunto de datos bancarios cusando R con Python."
   ]
  },
  {
   "cell_type": "markdown",
   "id": "1ae4b21e-bd09-4cea-9424-c9e51955044b",
   "metadata": {},
   "source": [
    "## Acerca del conjunto de datos"
   ]
  },
  {
   "cell_type": "markdown",
   "id": "a2672703-b68e-4285-8a1e-adf9998c4ee7",
   "metadata": {},
   "source": [
    "Contexto : Una gran tienda está planeando las rebajas de fin de año. Quieren lanzar una nueva oferta: la membresía Gold, que ofrece un 20 % de descuento en todas las compras, por solo $ 499,  $ que es de$ $ 999 los demás días. Será válida solo para los clientes existentes y actualmente se está planificando la campaña a través de llamadas telefónicas para ellos. La gerencia cree que la mejor manera de reducir el costo de la campaña es crear un modelo predictivo que clasifique a los clientes que podrían comprar la oferta."
   ]
  },
  {
   "cell_type": "markdown",
   "id": "64c7504d-1334-4f10-9907-ddee544b0fa1",
   "metadata": {},
   "source": [
    "## Librerias"
   ]
  },
  {
   "cell_type": "markdown",
   "id": "a4ffa25e-d2ff-49d6-b247-b0ae325da68f",
   "metadata": {},
   "source": [
    "Importando las bibliotecas necesarias para este proyecto."
   ]
  },
  {
   "cell_type": "code",
   "execution_count": 1,
   "id": "b64cc8c8-f4f8-4356-8e85-fb3244e8b417",
   "metadata": {},
   "outputs": [],
   "source": [
    "import os\n",
    "os.environ['R_HOME'] = 'C:/Program Files/R/R-4.4.1'\n",
    "import rpy2.robjects as ro"
   ]
  },
  {
   "cell_type": "markdown",
   "id": "8ee8dd75-3128-495d-8fa5-de026034bb14",
   "metadata": {},
   "source": [
    "### Importar libreria"
   ]
  },
  {
   "cell_type": "code",
   "execution_count": 2,
   "id": "065dcfc1-87e7-456c-9fa6-1b9bb667403a",
   "metadata": {
    "scrolled": true
   },
   "outputs": [
    {
     "name": "stderr",
     "output_type": "stream",
     "text": [
      "C:\\Users\\alex_\\AppData\\Local\\Programs\\Python\\Python312\\Lib\\site-packages\\rpy2\\robjects\\packages.py:367: UserWarning: The symbol 'quartz' is not in this R namespace/package.\n",
      "  warnings.warn(\n"
     ]
    }
   ],
   "source": [
    "import pandas as pd\n",
    "import matplotlib.pyplot as plt\n",
    "import numpy as np\n",
    "import rpy2.robjects as ro\n",
    "from rpy2.robjects import pandas2ri\n",
    "from rpy2.robjects.packages import importr\n",
    "from rpy2.robjects.lib import grdevices\n",
    "from IPython.display import Image"
   ]
  },
  {
   "cell_type": "code",
   "execution_count": 3,
   "id": "a6f36bce-c3e5-41c1-93a7-d782151142bc",
   "metadata": {},
   "outputs": [],
   "source": [
    "pd.set_option(\"display.precision\", 2)\n",
    "pd.options.display.float_format = '{:.2f}'.format"
   ]
  },
  {
   "cell_type": "code",
   "execution_count": 4,
   "id": "57341575-0f7e-4ce7-9deb-6487964890fd",
   "metadata": {},
   "outputs": [],
   "source": [
    "try: \n",
    "    # Definir el repositorio CRAN\n",
    "    utils = importr('utils')\n",
    "    utils.chooseCRANmirror(ind=1)  # Elige un espejo CRAN para descargar los paquetes\n",
    "except Exception as e:\n",
    "    print(f\"Ocurrió un error al ajustar el modelo: {e}\")"
   ]
  },
  {
   "cell_type": "markdown",
   "id": "c30ab3fa-afa3-453a-b88b-f7da21ad236a",
   "metadata": {},
   "source": [
    "### Usando la conversion a R"
   ]
  },
  {
   "cell_type": "code",
   "execution_count": 5,
   "id": "71f41750-00e6-40a4-98d6-245d048b661d",
   "metadata": {},
   "outputs": [],
   "source": [
    "# Activar la conversión entre pandas y R\n",
    "pandas2ri.activate()"
   ]
  },
  {
   "cell_type": "code",
   "execution_count": 6,
   "id": "126752bf-1280-42c9-9615-68a7bbcf64d2",
   "metadata": {},
   "outputs": [],
   "source": [
    "# Importar librerías de R necesarias\n",
    "tidyverse = importr('tidyverse')\n",
    "ggplot2 = importr('ggplot2')\n",
    "glmnet = importr('glmnet')\n",
    "tidymodels = importr('tidymodels')\n",
    "caret = importr('caret')\n",
    "rcompanion = importr('rcompanion')\n",
    "pROC = importr('pROC')\n",
    "rsample = importr('rsample')\n",
    "dplyr = importr('dplyr')\n",
    "plyr = importr('plyr')"
   ]
  },
  {
   "cell_type": "markdown",
   "id": "77618340-72ad-4c7a-acdd-622147c079f1",
   "metadata": {},
   "source": [
    "### Cargando la dataset"
   ]
  },
  {
   "cell_type": "code",
   "execution_count": 7,
   "id": "5798479c-73e4-4d34-93f8-81fe99d29fe4",
   "metadata": {},
   "outputs": [
    {
     "data": {
      "text/html": [
       "<div>\n",
       "<style scoped>\n",
       "    .dataframe tbody tr th:only-of-type {\n",
       "        vertical-align: middle;\n",
       "    }\n",
       "\n",
       "    .dataframe tbody tr th {\n",
       "        vertical-align: top;\n",
       "    }\n",
       "\n",
       "    .dataframe thead th {\n",
       "        text-align: right;\n",
       "    }\n",
       "</style>\n",
       "<table border=\"1\" class=\"dataframe\">\n",
       "  <thead>\n",
       "    <tr style=\"text-align: right;\">\n",
       "      <th></th>\n",
       "      <th>Id</th>\n",
       "      <th>Year_Birth</th>\n",
       "      <th>Education</th>\n",
       "      <th>Marital_Status</th>\n",
       "      <th>Income</th>\n",
       "      <th>Kidhome</th>\n",
       "      <th>Teenhome</th>\n",
       "      <th>Dt_Customer</th>\n",
       "      <th>Recency</th>\n",
       "      <th>MntWines</th>\n",
       "      <th>...</th>\n",
       "      <th>MntFishProducts</th>\n",
       "      <th>MntSweetProducts</th>\n",
       "      <th>MntGoldProds</th>\n",
       "      <th>NumDealsPurchases</th>\n",
       "      <th>NumWebPurchases</th>\n",
       "      <th>NumCatalogPurchases</th>\n",
       "      <th>NumStorePurchases</th>\n",
       "      <th>NumWebVisitsMonth</th>\n",
       "      <th>Response</th>\n",
       "      <th>Complain</th>\n",
       "    </tr>\n",
       "  </thead>\n",
       "  <tbody>\n",
       "    <tr>\n",
       "      <th>0</th>\n",
       "      <td>1826</td>\n",
       "      <td>1970</td>\n",
       "      <td>Graduation</td>\n",
       "      <td>Divorced</td>\n",
       "      <td>84835.00</td>\n",
       "      <td>0</td>\n",
       "      <td>0</td>\n",
       "      <td>6/16/2014</td>\n",
       "      <td>0</td>\n",
       "      <td>189</td>\n",
       "      <td>...</td>\n",
       "      <td>111</td>\n",
       "      <td>189</td>\n",
       "      <td>218</td>\n",
       "      <td>1</td>\n",
       "      <td>4</td>\n",
       "      <td>4</td>\n",
       "      <td>6</td>\n",
       "      <td>1</td>\n",
       "      <td>1</td>\n",
       "      <td>0</td>\n",
       "    </tr>\n",
       "    <tr>\n",
       "      <th>1</th>\n",
       "      <td>1</td>\n",
       "      <td>1961</td>\n",
       "      <td>Graduation</td>\n",
       "      <td>Single</td>\n",
       "      <td>57091.00</td>\n",
       "      <td>0</td>\n",
       "      <td>0</td>\n",
       "      <td>6/15/2014</td>\n",
       "      <td>0</td>\n",
       "      <td>464</td>\n",
       "      <td>...</td>\n",
       "      <td>7</td>\n",
       "      <td>0</td>\n",
       "      <td>37</td>\n",
       "      <td>1</td>\n",
       "      <td>7</td>\n",
       "      <td>3</td>\n",
       "      <td>7</td>\n",
       "      <td>5</td>\n",
       "      <td>1</td>\n",
       "      <td>0</td>\n",
       "    </tr>\n",
       "    <tr>\n",
       "      <th>2</th>\n",
       "      <td>10476</td>\n",
       "      <td>1958</td>\n",
       "      <td>Graduation</td>\n",
       "      <td>Married</td>\n",
       "      <td>67267.00</td>\n",
       "      <td>0</td>\n",
       "      <td>1</td>\n",
       "      <td>5/13/2014</td>\n",
       "      <td>0</td>\n",
       "      <td>134</td>\n",
       "      <td>...</td>\n",
       "      <td>15</td>\n",
       "      <td>2</td>\n",
       "      <td>30</td>\n",
       "      <td>1</td>\n",
       "      <td>3</td>\n",
       "      <td>2</td>\n",
       "      <td>5</td>\n",
       "      <td>2</td>\n",
       "      <td>0</td>\n",
       "      <td>0</td>\n",
       "    </tr>\n",
       "    <tr>\n",
       "      <th>3</th>\n",
       "      <td>1386</td>\n",
       "      <td>1967</td>\n",
       "      <td>Graduation</td>\n",
       "      <td>Together</td>\n",
       "      <td>32474.00</td>\n",
       "      <td>1</td>\n",
       "      <td>1</td>\n",
       "      <td>11/5/2014</td>\n",
       "      <td>0</td>\n",
       "      <td>10</td>\n",
       "      <td>...</td>\n",
       "      <td>0</td>\n",
       "      <td>0</td>\n",
       "      <td>0</td>\n",
       "      <td>1</td>\n",
       "      <td>1</td>\n",
       "      <td>0</td>\n",
       "      <td>2</td>\n",
       "      <td>7</td>\n",
       "      <td>0</td>\n",
       "      <td>0</td>\n",
       "    </tr>\n",
       "    <tr>\n",
       "      <th>4</th>\n",
       "      <td>5371</td>\n",
       "      <td>1989</td>\n",
       "      <td>Graduation</td>\n",
       "      <td>Single</td>\n",
       "      <td>21474.00</td>\n",
       "      <td>1</td>\n",
       "      <td>0</td>\n",
       "      <td>8/4/2014</td>\n",
       "      <td>0</td>\n",
       "      <td>6</td>\n",
       "      <td>...</td>\n",
       "      <td>11</td>\n",
       "      <td>0</td>\n",
       "      <td>34</td>\n",
       "      <td>2</td>\n",
       "      <td>3</td>\n",
       "      <td>1</td>\n",
       "      <td>2</td>\n",
       "      <td>7</td>\n",
       "      <td>1</td>\n",
       "      <td>0</td>\n",
       "    </tr>\n",
       "  </tbody>\n",
       "</table>\n",
       "<p>5 rows × 22 columns</p>\n",
       "</div>"
      ],
      "text/plain": [
       "      Id  Year_Birth   Education Marital_Status   Income  Kidhome  Teenhome  \\\n",
       "0   1826        1970  Graduation       Divorced 84835.00        0         0   \n",
       "1      1        1961  Graduation         Single 57091.00        0         0   \n",
       "2  10476        1958  Graduation        Married 67267.00        0         1   \n",
       "3   1386        1967  Graduation       Together 32474.00        1         1   \n",
       "4   5371        1989  Graduation         Single 21474.00        1         0   \n",
       "\n",
       "  Dt_Customer  Recency  MntWines  ...  MntFishProducts  MntSweetProducts  \\\n",
       "0   6/16/2014        0       189  ...              111               189   \n",
       "1   6/15/2014        0       464  ...                7                 0   \n",
       "2   5/13/2014        0       134  ...               15                 2   \n",
       "3   11/5/2014        0        10  ...                0                 0   \n",
       "4    8/4/2014        0         6  ...               11                 0   \n",
       "\n",
       "   MntGoldProds  NumDealsPurchases  NumWebPurchases  NumCatalogPurchases  \\\n",
       "0           218                  1                4                    4   \n",
       "1            37                  1                7                    3   \n",
       "2            30                  1                3                    2   \n",
       "3             0                  1                1                    0   \n",
       "4            34                  2                3                    1   \n",
       "\n",
       "   NumStorePurchases  NumWebVisitsMonth  Response  Complain  \n",
       "0                  6                  1         1         0  \n",
       "1                  7                  5         1         0  \n",
       "2                  5                  2         0         0  \n",
       "3                  2                  7         0         0  \n",
       "4                  2                  7         1         0  \n",
       "\n",
       "[5 rows x 22 columns]"
      ]
     },
     "execution_count": 7,
     "metadata": {},
     "output_type": "execute_result"
    }
   ],
   "source": [
    "## Leer el conjunto de datos en Python y convertirlo a un DataFrame de R\n",
    "df = pd.read_csv(\"./datasets/superstore_data.csv\")\n",
    "##Muestar los primeros 5 datos\n",
    "df.head(5)"
   ]
  },
  {
   "cell_type": "markdown",
   "id": "4fb577da-87a6-4ffe-9973-ec0d5132d117",
   "metadata": {},
   "source": [
    "Cargamos los datos y definimos DataFrame. Leamos los datos y veamos las primeras 5 filas usando el método head."
   ]
  },
  {
   "cell_type": "code",
   "execution_count": 8,
   "id": "a3cd1704-ddc8-4f78-a167-ddcdc1df9950",
   "metadata": {},
   "outputs": [],
   "source": [
    "# Asegurarse de que los nombres de las columnas no tengan espacios ni caracteres especiales\n",
    "df.columns = df.columns.str.replace(' ', '_').str.replace('[^A-Za-z0-9_]', '')"
   ]
  },
  {
   "cell_type": "code",
   "execution_count": 9,
   "id": "5fbb79e2-95e4-4a43-a350-f790c257f182",
   "metadata": {},
   "outputs": [],
   "source": [
    "rdf = pandas2ri.py2rpy(df)"
   ]
  },
  {
   "cell_type": "markdown",
   "id": "eeed2d89-9453-4722-8a97-7f5d32ba6947",
   "metadata": {},
   "source": [
    "Se convertir el `DataFreme` para trabajarlo en R\n"
   ]
  },
  {
   "cell_type": "code",
   "execution_count": 10,
   "id": "a7181ae0-7bc7-44c3-b706-19e8cdff7665",
   "metadata": {},
   "outputs": [],
   "source": [
    "# Asignar el DataFrame de R a una variable de R para usar en los comandos posteriores\n",
    "ro.globalenv['df'] = rdf"
   ]
  },
  {
   "cell_type": "markdown",
   "id": "bd7434b5-b47e-4520-89d7-bc16df96bcab",
   "metadata": {},
   "source": [
    "Se asigna el `DataFrame` en una variable para usar en R"
   ]
  },
  {
   "cell_type": "markdown",
   "id": "0f6bab78-101e-4276-a37f-431cadbcc971",
   "metadata": {},
   "source": [
    "## Revisemos el tamaño del Dataset, sus columnas y los tipos de datos"
   ]
  },
  {
   "cell_type": "markdown",
   "id": "001a08e2-28fe-4729-aee8-2346479695e3",
   "metadata": {},
   "source": [
    "## Nombres de cada Columna"
   ]
  },
  {
   "cell_type": "code",
   "execution_count": 11,
   "id": "d083d522-c52d-4a1c-89b4-46e25bc5d89a",
   "metadata": {},
   "outputs": [
    {
     "data": {
      "text/plain": [
       "Index(['Id', 'Year_Birth', 'Education', 'Marital_Status', 'Income', 'Kidhome',\n",
       "       'Teenhome', 'Dt_Customer', 'Recency', 'MntWines', 'MntFruits',\n",
       "       'MntMeatProducts', 'MntFishProducts', 'MntSweetProducts',\n",
       "       'MntGoldProds', 'NumDealsPurchases', 'NumWebPurchases',\n",
       "       'NumCatalogPurchases', 'NumStorePurchases', 'NumWebVisitsMonth',\n",
       "       'Response', 'Complain'],\n",
       "      dtype='object')"
      ]
     },
     "execution_count": 11,
     "metadata": {},
     "output_type": "execute_result"
    }
   ],
   "source": [
    "df.columns"
   ]
  },
  {
   "cell_type": "markdown",
   "id": "46dfa0f3-4df4-4827-977f-41b50a1302f0",
   "metadata": {},
   "source": [
    "Nombre de las columnas "
   ]
  },
  {
   "cell_type": "markdown",
   "id": "f089f355-cde2-4e09-95db-c8910f0062e4",
   "metadata": {},
   "source": [
    "Diccionario:\n",
    "\n",
    "La descripción de los datos es la siguiente:\n",
    "\n",
    "1. `Response` (target) - 1 if customer accepted the offer in the last campaign, 0 otherwise\n",
    "2. `ID` - Unique ID of each customer\n",
    "3. `Year_Birth` - Age of the customer\n",
    "4. `Complain` - 1 if the customer complained in the last 2 years\n",
    "5. `Dt_Customer` - date of customer's enrollment with the company\n",
    "6. `Education` - customer's level of education\n",
    "7. `Marital` - customer's marital status\n",
    "8. `Kidhome` - number of small children in customer's household\n",
    "9. `Teenhome` - number of teenagers in customer's household\n",
    "10. `Income` - customer's yearly household income\n",
    "11. `MntFishProducts` - the amount spent on fish products in the last 2 years\n",
    "12. `MntMeatProducts` - the amount spent on meat products in the last 2 years\n",
    "13. `MntFruits` - the amount spent on fruits products in the last 2 years\n",
    "14. `MntSweetProducts` - amount spent on sweet products in the last 2 years\n",
    "15. `MntWines` - the amount spent on wine products in the last 2 years\n",
    "16. `MntGoldProds` - the amount spent on gold products in the last 2 years\n",
    "14. `NumDealsPurchases` - number of purchases made with discount\n",
    "15. `NumCatalogPurchases` - number of purchases made using catalog (buying goods to be shipped through the mail)\n",
    "16. `NumStorePurchases` - number of purchases made directly in stores\n",
    "17. `NumWebPurchases` - number of purchases made through the company's website\n",
    "18. `NumWebVisitsMonth` - number of visits to company's website in the last month\n",
    "19. `Recency` - number of days since the last purchase"
   ]
  },
  {
   "cell_type": "markdown",
   "id": "199f8c29-7a18-4f41-a082-376770eae422",
   "metadata": {},
   "source": [
    "Se visualiza la inforacion de todas las columnas del Dataframe "
   ]
  },
  {
   "cell_type": "markdown",
   "id": "357b6618-87d1-4383-934c-7470415107fa",
   "metadata": {},
   "source": [
    "### Analisis de datos"
   ]
  },
  {
   "cell_type": "code",
   "execution_count": 12,
   "id": "4fa5b87a-5b6a-4139-af37-b23d1f4696f4",
   "metadata": {},
   "outputs": [
    {
     "name": "stdout",
     "output_type": "stream",
     "text": [
      "ESTRCUTRA DE LOS DATOS: \n",
      "'data.frame':\t2240 obs. of  22 variables:\n",
      " $ Id                 : int  1826 1 10476 1386 5371 7348 4073 1991 4047 9477 ...\n",
      " $ Year_Birth         : int  1970 1961 1958 1967 1989 1958 1954 1967 1954 1954 ...\n",
      " $ Education          : chr  \"Graduation\" \"Graduation\" \"Graduation\" \"Graduation\" ...\n",
      " $ Marital_Status     : chr  \"Divorced\" \"Single\" \"Married\" \"Together\" ...\n",
      " $ Income             : num  84835 57091 67267 32474 21474 ...\n",
      " $ Kidhome            : int  0 0 0 1 1 0 0 0 0 0 ...\n",
      " $ Teenhome           : int  0 0 1 1 0 0 0 1 1 1 ...\n",
      " $ Dt_Customer        : chr  \"6/16/2014\" \"6/15/2014\" \"5/13/2014\" \"11/5/2014\" ...\n",
      " $ Recency            : int  0 0 0 0 0 0 0 0 0 0 ...\n",
      " $ MntWines           : int  189 464 134 10 6 336 769 78 384 384 ...\n",
      " $ MntFruits          : int  104 5 11 0 16 130 80 0 0 0 ...\n",
      " $ MntMeatProducts    : int  379 64 59 1 24 411 252 11 102 102 ...\n",
      " $ MntFishProducts    : int  111 7 15 0 11 240 15 0 21 21 ...\n",
      " $ MntSweetProducts   : int  189 0 2 0 0 32 34 0 32 32 ...\n",
      " $ MntGoldProds       : int  218 37 30 0 34 43 65 7 5 5 ...\n",
      " $ NumDealsPurchases  : int  1 1 1 1 2 1 1 1 3 3 ...\n",
      " $ NumWebPurchases    : int  4 7 3 1 3 4 10 2 6 6 ...\n",
      " $ NumCatalogPurchases: int  4 3 2 0 1 7 10 1 2 2 ...\n",
      " $ NumStorePurchases  : int  6 7 5 2 2 5 7 3 9 9 ...\n",
      " $ NumWebVisitsMonth  : int  1 5 2 7 7 2 6 5 4 4 ...\n",
      " $ Response           : int  1 1 0 0 1 1 1 0 0 0 ...\n",
      " $ Complain           : int  0 0 0 0 0 0 0 0 0 0 ...\n"
     ]
    }
   ],
   "source": [
    "# Análisis de datos\n",
    "print(\"ESTRCUTRA DE LOS DATOS: \")\n",
    "ro.r('''\n",
    "    # Estructura de los datos\n",
    "    str(df)\n",
    "''')"
   ]
  },
  {
   "cell_type": "markdown",
   "id": "76fcdc1a-70f7-4d99-9f83-8ad4a131a2ac",
   "metadata": {},
   "source": [
    "El nombre y tipo de datos de las columnas del `DataSet`"
   ]
  },
  {
   "cell_type": "code",
   "execution_count": 13,
   "id": "a09ef50f-9166-49e3-bfed-354c4d618a7d",
   "metadata": {},
   "outputs": [
    {
     "name": "stdout",
     "output_type": "stream",
     "text": [
      "     Id Year_Birth  Education Marital_Status Income Kidhome Teenhome\n",
      "0  1826       1970 Graduation       Divorced  84835       0        0\n",
      "1     1       1961 Graduation         Single  57091       0        0\n",
      "2 10476       1958 Graduation        Married  67267       0        1\n",
      "3  1386       1967 Graduation       Together  32474       1        1\n",
      "4  5371       1989 Graduation         Single  21474       1        0\n",
      "5  7348       1958        PhD         Single  71691       0        0\n",
      "  Dt_Customer Recency MntWines MntFruits MntMeatProducts MntFishProducts\n",
      "0   6/16/2014       0      189       104             379             111\n",
      "1   6/15/2014       0      464         5              64               7\n",
      "2   5/13/2014       0      134        11              59              15\n",
      "3   11/5/2014       0       10         0               1               0\n",
      "4    8/4/2014       0        6        16              24              11\n",
      "5   3/17/2014       0      336       130             411             240\n",
      "  MntSweetProducts MntGoldProds NumDealsPurchases NumWebPurchases\n",
      "0              189          218                 1               4\n",
      "1                0           37                 1               7\n",
      "2                2           30                 1               3\n",
      "3                0            0                 1               1\n",
      "4                0           34                 2               3\n",
      "5               32           43                 1               4\n",
      "  NumCatalogPurchases NumStorePurchases NumWebVisitsMonth Response Complain\n",
      "0                   4                 6                 1        1        0\n",
      "1                   3                 7                 5        1        0\n",
      "2                   2                 5                 2        0        0\n",
      "3                   0                 2                 7        0        0\n",
      "4                   1                 2                 7        1        0\n",
      "5                   7                 5                 2        1        0\n"
     ]
    }
   ],
   "source": [
    "## Primeras filas\n",
    "ro.r('''\n",
    "    # Primeras filas\n",
    "    print(head(df))\n",
    "    #mustra las primeras 6 filas del dataset\n",
    "''')"
   ]
  },
  {
   "cell_type": "markdown",
   "id": "c018d8c7-7047-4661-a889-6ae7ecb7ed4a",
   "metadata": {},
   "source": [
    "Se muestra las primeras 6 filas del `DataFrame`"
   ]
  },
  {
   "cell_type": "markdown",
   "id": "d93d8bab-7c8e-4ef1-a1dd-ad783aaca7af",
   "metadata": {},
   "source": [
    "### Resumen estadistico"
   ]
  },
  {
   "cell_type": "code",
   "execution_count": 14,
   "id": "8942172d-6ea6-46d0-9c7f-d99093d155bd",
   "metadata": {},
   "outputs": [
    {
     "data": {
      "text/plain": [
       "array(['Min.   :    0  ', '1st Qu.: 2828  ', 'Median : 5458  ',\n",
       "       'Mean   : 5592  ', '3rd Qu.: 8428  ', 'Max.   :11191  ', None,\n",
       "       'Min.   :1893  ', '1st Qu.:1959  ', 'Median :1970  ',\n",
       "       'Mean   :1969  ', '3rd Qu.:1977  ', 'Max.   :1996  ', None,\n",
       "       'Length:2240       ', 'Class :character  ', 'Mode  :character  ',\n",
       "       None, None, None, None, 'Length:2240       ', 'Class :character  ',\n",
       "       'Mode  :character  ', None, None, None, None, 'Min.   :  1730  ',\n",
       "       '1st Qu.: 35303  ', 'Median : 51382  ', 'Mean   : 52247  ',\n",
       "       '3rd Qu.: 68522  ', 'Max.   :666666  ', \"NA's   :24  \",\n",
       "       'Min.   :0.0000  ', '1st Qu.:0.0000  ', 'Median :0.0000  ',\n",
       "       'Mean   :0.4442  ', '3rd Qu.:1.0000  ', 'Max.   :2.0000  ', None,\n",
       "       'Min.   :0.0000  ', '1st Qu.:0.0000  ', 'Median :0.0000  ',\n",
       "       'Mean   :0.5062  ', '3rd Qu.:1.0000  ', 'Max.   :2.0000  ', None,\n",
       "       'Length:2240       ', 'Class :character  ', 'Mode  :character  ',\n",
       "       None, None, None, None, 'Min.   : 0.00  ', '1st Qu.:24.00  ',\n",
       "       'Median :49.00  ', 'Mean   :49.11  ', '3rd Qu.:74.00  ',\n",
       "       'Max.   :99.00  ', None, 'Min.   :   0.00  ', '1st Qu.:  23.75  ',\n",
       "       'Median : 173.50  ', 'Mean   : 303.94  ', '3rd Qu.: 504.25  ',\n",
       "       'Max.   :1493.00  ', None, 'Min.   :  0.0  ', '1st Qu.:  1.0  ',\n",
       "       'Median :  8.0  ', 'Mean   : 26.3  ', '3rd Qu.: 33.0  ',\n",
       "       'Max.   :199.0  ', None, 'Min.   :   0.0  ', '1st Qu.:  16.0  ',\n",
       "       'Median :  67.0  ', 'Mean   : 166.9  ', '3rd Qu.: 232.0  ',\n",
       "       'Max.   :1725.0  ', None, 'Min.   :  0.00  ', '1st Qu.:  3.00  ',\n",
       "       'Median : 12.00  ', 'Mean   : 37.53  ', '3rd Qu.: 50.00  ',\n",
       "       'Max.   :259.00  ', None, 'Min.   :  0.00  ', '1st Qu.:  1.00  ',\n",
       "       'Median :  8.00  ', 'Mean   : 27.06  ', '3rd Qu.: 33.00  ',\n",
       "       'Max.   :263.00  ', None, 'Min.   :  0.00  ', '1st Qu.:  9.00  ',\n",
       "       'Median : 24.00  ', 'Mean   : 44.02  ', '3rd Qu.: 56.00  ',\n",
       "       'Max.   :362.00  ', None, 'Min.   : 0.000  ', '1st Qu.: 1.000  ',\n",
       "       'Median : 2.000  ', 'Mean   : 2.325  ', '3rd Qu.: 3.000  ',\n",
       "       'Max.   :15.000  ', None, 'Min.   : 0.000  ', '1st Qu.: 2.000  ',\n",
       "       'Median : 4.000  ', 'Mean   : 4.085  ', '3rd Qu.: 6.000  ',\n",
       "       'Max.   :27.000  ', None, 'Min.   : 0.000  ', '1st Qu.: 0.000  ',\n",
       "       'Median : 2.000  ', 'Mean   : 2.662  ', '3rd Qu.: 4.000  ',\n",
       "       'Max.   :28.000  ', None, 'Min.   : 0.00  ', '1st Qu.: 3.00  ',\n",
       "       'Median : 5.00  ', 'Mean   : 5.79  ', '3rd Qu.: 8.00  ',\n",
       "       'Max.   :13.00  ', None, 'Min.   : 0.000  ', '1st Qu.: 3.000  ',\n",
       "       'Median : 6.000  ', 'Mean   : 5.317  ', '3rd Qu.: 7.000  ',\n",
       "       'Max.   :20.000  ', None, 'Min.   :0.0000  ', '1st Qu.:0.0000  ',\n",
       "       'Median :0.0000  ', 'Mean   :0.1491  ', '3rd Qu.:0.0000  ',\n",
       "       'Max.   :1.0000  ', None, 'Min.   :0.000000  ',\n",
       "       '1st Qu.:0.000000  ', 'Median :0.000000  ', 'Mean   :0.009375  ',\n",
       "       '3rd Qu.:0.000000  ', 'Max.   :1.000000  ', None], dtype=object)"
      ]
     },
     "execution_count": 14,
     "metadata": {},
     "output_type": "execute_result"
    }
   ],
   "source": [
    "# Resumen estadístico\n",
    "ro.r('''\n",
    "    summary(df)  \n",
    "''') \n",
    "#Muestra los valores max, min y media de cada columna"
   ]
  },
  {
   "cell_type": "markdown",
   "id": "73e1bd57-e54f-41e0-8491-cc4ad6507a1e",
   "metadata": {},
   "source": [
    "Muestra los valores max, min y media de cada columna "
   ]
  },
  {
   "cell_type": "code",
   "execution_count": 15,
   "id": "15df965e-56ae-4813-9a19-7bbbdfa0fc0f",
   "metadata": {},
   "outputs": [
    {
     "name": "stdout",
     "output_type": "stream",
     "text": [
      "                 Id          Year_Birth           Education      Marital_Status \n",
      "                  0                   0                   0                   0 \n",
      "             Income             Kidhome            Teenhome         Dt_Customer \n",
      "                 24                   0                   0                   0 \n",
      "            Recency            MntWines           MntFruits     MntMeatProducts \n",
      "                  0                   0                   0                   0 \n",
      "    MntFishProducts    MntSweetProducts        MntGoldProds   NumDealsPurchases \n",
      "                  0                   0                   0                   0 \n",
      "    NumWebPurchases NumCatalogPurchases   NumStorePurchases   NumWebVisitsMonth \n",
      "                  0                   0                   0                   0 \n",
      "           Response            Complain \n",
      "                  0                   0 \n"
     ]
    }
   ],
   "source": [
    "## Busca los valores NA\n",
    "ro.r('''\n",
    "    # Búsqueda de valores NA\n",
    "    print(colSums(is.na(df)))\n",
    "''') \n"
   ]
  },
  {
   "cell_type": "code",
   "execution_count": 16,
   "id": "1f305b90-1972-4b70-85cb-81ddaa63af3b",
   "metadata": {},
   "outputs": [
    {
     "name": "stdout",
     "output_type": "stream",
     "text": [
      "'data.frame':\t2216 obs. of  22 variables:\n",
      " $ Id                 : int  1826 1 10476 1386 5371 7348 4073 1991 4047 9477 ...\n",
      " $ Year_Birth         : int  1970 1961 1958 1967 1989 1958 1954 1967 1954 1954 ...\n",
      " $ Education          : chr  \"Graduation\" \"Graduation\" \"Graduation\" \"Graduation\" ...\n",
      " $ Marital_Status     : chr  \"Divorced\" \"Single\" \"Married\" \"Together\" ...\n",
      " $ Income             : num  84835 57091 67267 32474 21474 ...\n",
      " $ Kidhome            : int  0 0 0 1 1 0 0 0 0 0 ...\n",
      " $ Teenhome           : int  0 0 1 1 0 0 0 1 1 1 ...\n",
      " $ Dt_Customer        : chr  \"6/16/2014\" \"6/15/2014\" \"5/13/2014\" \"11/5/2014\" ...\n",
      " $ Recency            : int  0 0 0 0 0 0 0 0 0 0 ...\n",
      " $ MntWines           : int  189 464 134 10 6 336 769 78 384 384 ...\n",
      " $ MntFruits          : int  104 5 11 0 16 130 80 0 0 0 ...\n",
      " $ MntMeatProducts    : int  379 64 59 1 24 411 252 11 102 102 ...\n",
      " $ MntFishProducts    : int  111 7 15 0 11 240 15 0 21 21 ...\n",
      " $ MntSweetProducts   : int  189 0 2 0 0 32 34 0 32 32 ...\n",
      " $ MntGoldProds       : int  218 37 30 0 34 43 65 7 5 5 ...\n",
      " $ NumDealsPurchases  : int  1 1 1 1 2 1 1 1 3 3 ...\n",
      " $ NumWebPurchases    : int  4 7 3 1 3 4 10 2 6 6 ...\n",
      " $ NumCatalogPurchases: int  4 3 2 0 1 7 10 1 2 2 ...\n",
      " $ NumStorePurchases  : int  6 7 5 2 2 5 7 3 9 9 ...\n",
      " $ NumWebVisitsMonth  : int  1 5 2 7 7 2 6 5 4 4 ...\n",
      " $ Response           : int  1 1 0 0 1 1 1 0 0 0 ...\n",
      " $ Complain           : int  0 0 0 0 0 0 0 0 0 0 ...\n",
      " - attr(*, \"na.action\")= 'omit' Named int [1:24] 135 263 395 450 526 591 900 998 1097 1186 ...\n",
      "  ..- attr(*, \"names\")= chr [1:24] \"134\" \"262\" \"394\" \"449\" ...\n"
     ]
    }
   ],
   "source": [
    "## Busca los valores NA y los elimina\n",
    "ro.r('''\n",
    "    # Eliminar el valor NA\n",
    "    df = na.omit(df)\n",
    "    colSums(is.na(df))\n",
    "    str(df)\n",
    "''') "
   ]
  },
  {
   "cell_type": "markdown",
   "id": "eb099d7b-50ca-4960-8923-9bc8b08685fc",
   "metadata": {},
   "source": [
    "Se eliminan los valores NA y se imprime los datos nuevamente sin los valores NA"
   ]
  },
  {
   "cell_type": "markdown",
   "id": "188fa4e8-b5ee-4f71-a6f3-57137763b86d",
   "metadata": {},
   "source": [
    "### Analisis de la data por graficos"
   ]
  },
  {
   "cell_type": "code",
   "execution_count": 17,
   "id": "b799ce23-3e06-4008-8e02-afd3a965cc00",
   "metadata": {},
   "outputs": [
    {
     "data": {
      "image/png": "[encoded data removed]",
      "text/plain": [
       "<IPython.core.display.Image object>"
      ]
     },
     "execution_count": 17,
     "metadata": {},
     "output_type": "execute_result"
    }
   ],
   "source": [
    "# Abrir el dispositivo gráfico para guardar el gráfico como PNG\n",
    "grdevices.png(file=\"plot.png\", width=512, height=512, res=100)\n",
    "\n",
    "## Busca los valores NA y los elimina\n",
    "ro.r('''\n",
    "    # Visualice los datos y obtenga información sin procesar\n",
    "\n",
    "    par(mfrow = c(2,1))\n",
    "    barplot(table(df$Education), col = c(\"lightgreen\", \"yellow\",\"orange\",\"blue\"), \n",
    "        ylab = \"Number of obsevation\", \n",
    "        xlab = \"Education\")\n",
    "    # Muestra la relacion de la cantidad de nivel academico de los clientes.\n",
    "    barplot(table(df$Response), col = c(\"pink\",\"lightblue\"),\n",
    "        ylab = \"Number of observation\", xlab = \"Response\")\n",
    "    # Muestra la relacion de la cantida de clientes que aceptaron la campaña de ofertas\n",
    "''') \n",
    "# Verificar si algún dispositivo gráfico está abierto antes de cerrarlo\n",
    "if grdevices.dev_cur()[0] != 1:  # Verifica si el dispositivo no es el \"null device\"\n",
    "    grdevices.dev_off()\n",
    "# Mostrar el gráfico en el cuaderno Jupyter\n",
    "Image(filename=\"plot.png\")"
   ]
  },
  {
   "cell_type": "markdown",
   "id": "3102bff5-41b6-4ffc-869f-25ab3d586e56",
   "metadata": {},
   "source": [
    "1. La primera grafica muestra la relacion de la cantidad de nivel academico de los clientes, la yoria de clintes tiene un nivel academico de `Gradutaion`.\n",
    "2. La segunda grafica muestra la relacion de la cantida de clientes que aceptaron la campaña de ofertas, observando que son pocos los clientes que aceptaron la campaña de ofertas (`1`)"
   ]
  },
  {
   "cell_type": "code",
   "execution_count": 18,
   "id": "af04cb48-8c0b-45bb-97cf-4c92dda2bc06",
   "metadata": {},
   "outputs": [
    {
     "data": {
      "image/png": "[encoded data removed]",
      "text/plain": [
       "<IPython.core.display.Image object>"
      ]
     },
     "execution_count": 18,
     "metadata": {},
     "output_type": "execute_result"
    }
   ],
   "source": [
    "# Abrir el dispositivo gráfico para guardar el gráfico como PNG\n",
    "grdevices.png(file=\"plot.png\", width=512, height=512, res=100)\n",
    "\n",
    "ro.r('''\n",
    "    # Vea visualmente la educación predeterminada\n",
    "    plot <- ggplot(df, aes(Response, fill = Education)) + geom_bar()\n",
    "    # Muestra 2 columnas la primera son quienes No aceptaron la campaña y la segunda son quienes SI aceptaron la campaña\n",
    "\n",
    "    print(plot)\n",
    "    \n",
    "''') \n",
    "\n",
    "# Verificar si algún dispositivo gráfico está abierto antes de cerrarlo\n",
    "if grdevices.dev_cur()[0] != 1:  # Verifica si el dispositivo no es el \"null device\"\n",
    "    grdevices.dev_off()\n",
    "# Mostrar el gráfico en el cuaderno Jupyter\n",
    "Image(filename=\"plot.png\")"
   ]
  },
  {
   "cell_type": "markdown",
   "id": "4d57caf5-f592-4700-8a9b-0c3e8ce8f633",
   "metadata": {},
   "source": [
    "La grafica Muestra 2 columnas, la primera agrupa por nivel de educacion quienes No aceptaron la campaña de ofertas.\n",
    "y la segunda muestra agrupado por educacion quienes SI aceptaron la campaña de ofertas."
   ]
  },
  {
   "cell_type": "code",
   "execution_count": 19,
   "id": "9734f6d3-881c-41e7-bca1-f2110469a6dc",
   "metadata": {},
   "outputs": [
    {
     "name": "stdout",
     "output_type": "stream",
     "text": [
      "'data.frame':\t1772 obs. of  22 variables:\n",
      " $ Id                 : int  10476 4047 9477 2079 5642 2964 1473 2795 2285 115 ...\n",
      " $ Year_Birth         : int  1958 1954 1954 1947 1979 1981 1960 1958 1954 1966 ...\n",
      " $ Education          : chr  \"Graduation\" \"PhD\" \"PhD\" \"2n Cycle\" ...\n",
      " $ Marital_Status     : chr  \"Married\" \"Married\" \"Married\" \"Married\" ...\n",
      " $ Income             : num  67267 65324 65324 81044 62499 ...\n",
      " $ Kidhome            : int  0 0 0 0 1 0 0 2 0 0 ...\n",
      " $ Teenhome           : int  1 1 1 0 0 0 1 1 1 1 ...\n",
      " $ Dt_Customer        : chr  \"5/13/2014\" \"11/1/2014\" \"11/1/2014\" \"12/27/2013\" ...\n",
      " $ Recency            : int  0 0 0 0 0 0 0 0 0 0 ...\n",
      " $ MntWines           : int  134 384 384 450 140 3 53 5 213 275 ...\n",
      " $ MntFruits          : int  11 0 0 26 4 10 1 0 9 11 ...\n",
      " $ MntMeatProducts    : int  59 102 102 535 61 8 5 3 76 68 ...\n",
      " $ MntFishProducts    : int  15 21 21 73 0 3 2 0 4 25 ...\n",
      " $ MntSweetProducts   : int  2 32 32 98 13 16 1 0 3 7 ...\n",
      " $ MntGoldProds       : int  30 5 5 26 4 32 10 5 30 7 ...\n",
      " $ NumDealsPurchases  : int  1 3 3 1 2 1 2 1 3 3 ...\n",
      " $ NumWebPurchases    : int  3 6 6 5 3 1 2 1 5 5 ...\n",
      " $ NumCatalogPurchases: int  2 2 2 6 1 1 0 0 2 1 ...\n",
      " $ NumStorePurchases  : int  5 9 9 10 6 2 3 2 5 8 ...\n",
      " $ NumWebVisitsMonth  : int  2 4 4 1 4 6 8 7 7 5 ...\n",
      " $ Response           : int  0 0 0 0 0 0 0 0 0 0 ...\n",
      " $ Complain           : int  0 0 0 0 0 0 0 0 0 0 ...\n",
      " - attr(*, \"na.action\")= 'omit' Named int [1:24] 135 263 395 450 526 591 900 998 1097 1186 ...\n",
      "  ..- attr(*, \"names\")= chr [1:24] \"134\" \"262\" \"394\" \"449\" ...\n",
      "'data.frame':\t444 obs. of  22 variables:\n",
      " $ Id                 : int  1386 5371 1991 10311 837 10175 4065 5824 10141 7030 ...\n",
      " $ Year_Birth         : int  1967 1989 1967 1969 1977 1958 1976 1972 1960 1955 ...\n",
      " $ Education          : chr  \"Graduation\" \"Graduation\" \"Graduation\" \"Graduation\" ...\n",
      " $ Marital_Status     : chr  \"Together\" \"Single\" \"Together\" \"Married\" ...\n",
      " $ Income             : num  32474 21474 44931 4428 54809 ...\n",
      " $ Kidhome            : int  1 1 0 0 1 0 1 2 0 0 ...\n",
      " $ Teenhome           : int  1 0 1 1 1 1 0 1 0 1 ...\n",
      " $ Dt_Customer        : chr  \"11/5/2014\" \"8/4/2014\" \"1/18/2014\" \"5/10/2013\" ...\n",
      " $ Recency            : int  0 0 0 0 0 0 0 1 1 1 ...\n",
      " $ MntWines           : int  10 6 78 16 63 18 308 7 7 1200 ...\n",
      " $ MntFruits          : int  0 16 0 4 6 0 0 0 1 0 ...\n",
      " $ MntMeatProducts    : int  1 24 11 12 57 2 73 1 6 204 ...\n",
      " $ MntFishProducts    : int  0 11 0 2 13 0 0 0 0 38 ...\n",
      " $ MntSweetProducts   : int  0 0 0 4 13 0 0 0 3 29 ...\n",
      " $ MntGoldProds       : int  0 34 7 321 22 2 23 0 3 14 ...\n",
      " $ NumDealsPurchases  : int  1 2 1 0 4 1 2 1 1 3 ...\n",
      " $ NumWebPurchases    : int  1 3 2 25 2 1 5 1 0 11 ...\n",
      " $ NumCatalogPurchases: int  0 1 1 0 1 0 1 0 0 9 ...\n",
      " $ NumStorePurchases  : int  2 2 3 0 5 3 8 2 3 12 ...\n",
      " $ NumWebVisitsMonth  : int  7 7 5 1 4 4 7 6 4 6 ...\n",
      " $ Response           : int  0 1 0 0 0 0 0 0 0 0 ...\n",
      " $ Complain           : int  0 0 0 0 0 0 0 0 0 0 ...\n",
      " - attr(*, \"na.action\")= 'omit' Named int [1:24] 135 263 395 450 526 591 900 998 1097 1186 ...\n",
      "  ..- attr(*, \"names\")= chr [1:24] \"134\" \"262\" \"394\" \"449\" ...\n"
     ]
    }
   ],
   "source": [
    "# Construcción de modelos para predecir el uso de la campaña de oferta\n",
    "ro.r('''\n",
    "    # Construcción de modelos para predecir el uso de la campaña de oferta\n",
    "\n",
    "    set.seed(421)\n",
    "    split = initial_split(df, prop = 0.8, strata = Response)\n",
    "    train = split %>% \n",
    "      training()\n",
    "    val_test= split %>% \n",
    "      testing()\n",
    "\n",
    "    str(train)\n",
    "    str(val_test)\n",
    "''') "
   ]
  },
  {
   "cell_type": "markdown",
   "id": "a4e823af-6140-4f7a-92cc-68ea81d68ebc",
   "metadata": {},
   "source": [
    "Construcción de modelos para predecir el uso de la campaña de oferta"
   ]
  },
  {
   "cell_type": "code",
   "execution_count": 20,
   "id": "bc8d1f9d-6644-4f64-a897-e8ba3e770b7e",
   "metadata": {},
   "outputs": [
    {
     "name": "stdout",
     "output_type": "stream",
     "text": [
      "\n",
      "Call:\n",
      "glm(formula = Response ~ ., family = \"binomial\", data = train)\n",
      "\n",
      "Coefficients:\n",
      "                         Estimate Std. Error z value Pr(>|z|)    \n",
      "(Intercept)             8.161e+01  3.495e+04   0.002  0.99814    \n",
      "Id                     -8.712e-05  4.849e-05  -1.797  0.07240 .  \n",
      "Year_Birth             -1.733e-02  1.635e-02  -1.060  0.28926    \n",
      "EducationBasic         -4.491e+00  1.520e+00  -2.954  0.00314 ** \n",
      "EducationGraduation    -3.745e-01  6.156e-01  -0.608  0.54299    \n",
      "EducationMaster         6.229e-01  6.854e-01   0.909  0.36346    \n",
      "EducationPhD            3.254e-01  7.223e-01   0.451  0.65231    \n",
      "Marital_StatusAlone    -4.295e+01  3.495e+04  -0.001  0.99902    \n",
      "Marital_StatusDivorced -4.400e+01  3.495e+04  -0.001  0.99900    \n",
      "Marital_StatusMarried  -4.642e+01  3.495e+04  -0.001  0.99894    \n",
      "Marital_StatusSingle   -4.467e+01  3.495e+04  -0.001  0.99898    \n",
      "Marital_StatusTogether -4.655e+01  3.495e+04  -0.001  0.99894    \n",
      "Marital_StatusWidow    -4.290e+01  3.495e+04  -0.001  0.99902    \n",
      "Income                  1.948e-05  1.725e-05   1.129  0.25877    \n",
      "Kidhome                 5.785e-01  3.942e-01   1.468  0.14223    \n",
      "Teenhome               -2.373e+00  4.372e-01  -5.427 5.72e-08 ***\n",
      "Dt_Customer1/1/2014     5.476e-01  3.169e+00   0.173  0.86281    \n",
      "Dt_Customer1/10/2012   -4.959e+00  2.491e+00  -1.991  0.04648 *  \n",
      "Dt_Customer1/10/2013   -2.434e+01  1.338e+04  -0.002  0.99855    \n",
      "Dt_Customer1/11/2012   -2.285e+01  1.891e+04  -0.001  0.99904    \n",
      "Dt_Customer1/11/2013   -2.129e+01  2.923e+04  -0.001  0.99942    \n",
      "Dt_Customer1/12/2012   -1.757e+00  2.540e+00  -0.691  0.48926    \n",
      "Dt_Customer1/12/2013   -2.393e+01  1.129e+04  -0.002  0.99831    \n",
      "Dt_Customer1/13/2013   -2.318e+01  1.334e+04  -0.002  0.99861    \n",
      "Dt_Customer1/13/2014    1.790e+01  2.923e+04   0.001  0.99951    \n",
      "Dt_Customer1/14/2014   -2.106e+01  2.923e+04  -0.001  0.99943    \n",
      "Dt_Customer1/15/2013   -2.144e+01  2.923e+04  -0.001  0.99941    \n",
      "Dt_Customer1/15/2014   -2.783e+01  1.219e+04  -0.002  0.99818    \n",
      "Dt_Customer1/16/2013   -2.927e+00  2.529e+00  -1.157  0.24711    \n",
      "Dt_Customer1/17/2013   -3.465e+00  2.507e+00  -1.382  0.16694    \n",
      "Dt_Customer1/17/2014   -2.139e+01  1.266e+04  -0.002  0.99865    \n",
      "Dt_Customer1/18/2014   -2.138e+01  2.030e+04  -0.001  0.99916    \n",
      "Dt_Customer1/19/2013   -4.975e+00  2.696e+00  -1.845  0.06505 .  \n",
      "Dt_Customer1/19/2014   -2.091e+01  1.576e+04  -0.001  0.99894    \n",
      "Dt_Customer1/2/2013    -2.966e+00  6.332e+00  -0.468  0.63945    \n",
      "Dt_Customer1/2/2014    -2.037e+01  2.923e+04  -0.001  0.99944    \n",
      "Dt_Customer1/20/2013   -2.468e+01  1.118e+04  -0.002  0.99824    \n",
      "Dt_Customer1/21/2013   -4.360e+00  2.561e+00  -1.702  0.08870 .  \n",
      "Dt_Customer1/21/2014   -2.149e+01  1.605e+04  -0.001  0.99893    \n",
      "Dt_Customer1/22/2013   -2.039e+01  2.923e+04  -0.001  0.99944    \n",
      "Dt_Customer1/22/2014   -3.435e+00  2.527e+00  -1.359  0.17405    \n",
      "Dt_Customer1/23/2013   -2.102e+01  1.332e+04  -0.002  0.99874    \n",
      "Dt_Customer1/23/2014   -2.313e+01  1.183e+04  -0.002  0.99844    \n",
      "Dt_Customer1/24/2013    1.906e+01  2.923e+04   0.001  0.99948    \n",
      "Dt_Customer1/24/2014   -2.441e+01  1.780e+04  -0.001  0.99891    \n",
      "Dt_Customer1/25/2013   -7.231e+00  2.747e+00  -2.633  0.00847 ** \n",
      "Dt_Customer1/25/2014   -2.390e+01  1.081e+04  -0.002  0.99824    \n",
      "Dt_Customer1/26/2013   -2.374e+01  1.458e+04  -0.002  0.99870    \n",
      "Dt_Customer1/26/2014   -2.551e+01  1.111e+04  -0.002  0.99817    \n",
      "Dt_Customer1/27/2013   -2.156e+01  2.923e+04  -0.001  0.99941    \n",
      "Dt_Customer1/27/2014   -2.111e+01  1.661e+04  -0.001  0.99899    \n",
      "Dt_Customer1/28/2014   -2.408e+01  1.447e+04  -0.002  0.99867    \n",
      "Dt_Customer1/29/2013   -1.658e+00  2.792e+00  -0.594  0.55257    \n",
      "Dt_Customer1/29/2014    1.195e+01  2.923e+04   0.000  0.99967    \n",
      "Dt_Customer1/3/2013    -2.643e+00  2.502e+00  -1.056  0.29080    \n",
      "Dt_Customer1/3/2014    -2.535e+01  8.112e+03  -0.003  0.99751    \n",
      "Dt_Customer1/30/2014   -2.290e+01  2.923e+04  -0.001  0.99937    \n",
      "Dt_Customer1/31/2013   -1.291e+00  2.692e+00  -0.480  0.63150    \n",
      "Dt_Customer1/31/2014   -2.095e+01  2.923e+04  -0.001  0.99943    \n",
      "Dt_Customer1/4/2013    -1.191e+00  2.417e+00  -0.493  0.62219    \n",
      "Dt_Customer1/4/2014    -2.235e+01  2.923e+04  -0.001  0.99939    \n",
      "Dt_Customer1/5/2013    -4.881e+00  2.816e+00  -1.733  0.08303 .  \n",
      "Dt_Customer1/5/2014     1.450e+01  2.923e+04   0.000  0.99960    \n",
      "Dt_Customer1/6/2013    -2.596e+01  1.823e+04  -0.001  0.99886    \n",
      "Dt_Customer1/7/2013    -2.490e+01  1.386e+04  -0.002  0.99857    \n",
      "Dt_Customer1/8/2012    -1.030e+00  2.402e+00  -0.429  0.66795    \n",
      "Dt_Customer1/8/2013    -2.136e+01  1.424e+04  -0.002  0.99880    \n",
      "Dt_Customer1/9/2012     2.406e+01  2.923e+04   0.001  0.99934    \n",
      "Dt_Customer1/9/2013    -2.179e+01  1.373e+04  -0.002  0.99873    \n",
      "Dt_Customer10/1/2013   -1.958e+00  2.383e+00  -0.822  0.41128    \n",
      "Dt_Customer10/1/2014   -2.205e+01  1.574e+04  -0.001  0.99888    \n",
      "Dt_Customer10/10/2012  -2.203e+00  2.374e+00  -0.928  0.35344    \n",
      "Dt_Customer10/10/2013  -9.461e-01  3.116e+00  -0.304  0.76138    \n",
      "Dt_Customer10/11/2012  -4.682e+00  2.529e+00  -1.851  0.06412 .  \n",
      "Dt_Customer10/11/2013  -2.448e+01  1.562e+04  -0.002  0.99875    \n",
      "Dt_Customer10/12/2012  -2.296e+01  1.937e+04  -0.001  0.99905    \n",
      "Dt_Customer10/12/2013  -1.483e+01  2.923e+04  -0.001  0.99960    \n",
      "Dt_Customer10/13/2012  -3.613e+00  2.387e+00  -1.513  0.13021    \n",
      "Dt_Customer10/13/2013  -2.595e+01  1.379e+04  -0.002  0.99850    \n",
      "Dt_Customer10/14/2012  -2.150e+01  1.278e+04  -0.002  0.99866    \n",
      "Dt_Customer10/14/2013  -2.343e+01  1.298e+04  -0.002  0.99856    \n",
      "Dt_Customer10/15/2012   4.368e-01  2.535e+00   0.172  0.86321    \n",
      "Dt_Customer10/15/2013  -2.403e+01  1.711e+04  -0.001  0.99888    \n",
      "Dt_Customer10/16/2012  -2.792e+00  2.391e+00  -1.167  0.24307    \n",
      "Dt_Customer10/16/2013  -3.541e+00  2.245e+00  -1.577  0.11471    \n",
      "Dt_Customer10/17/2013  -6.234e+00  2.814e+00  -2.215  0.02677 *  \n",
      "Dt_Customer10/18/2012  -3.811e+00  2.515e+00  -1.515  0.12967    \n",
      "Dt_Customer10/18/2013  -2.798e+01  2.066e+04  -0.001  0.99892    \n",
      "Dt_Customer10/19/2012  -2.674e+01  2.923e+04  -0.001  0.99927    \n",
      "Dt_Customer10/19/2013  -2.206e+01  1.996e+04  -0.001  0.99912    \n",
      "Dt_Customer10/2/2013   -2.012e+01  2.923e+04  -0.001  0.99945    \n",
      "Dt_Customer10/2/2014   -3.906e+00  2.540e+00  -1.538  0.12408    \n",
      "Dt_Customer10/20/2013  -2.216e+01  1.295e+04  -0.002  0.99863    \n",
      "Dt_Customer10/21/2012  -2.431e+01  2.923e+04  -0.001  0.99934    \n",
      "Dt_Customer10/21/2013  -2.916e+00  3.134e+00  -0.930  0.35218    \n",
      "Dt_Customer10/22/2012  -4.448e-01  2.465e+00  -0.180  0.85678    \n",
      "Dt_Customer10/22/2013  -3.091e+00  2.598e+00  -1.190  0.23410    \n",
      "Dt_Customer10/23/2012  -1.852e+01  2.923e+04  -0.001  0.99949    \n",
      "Dt_Customer10/23/2013  -1.912e+01  1.983e+04  -0.001  0.99923    \n",
      "Dt_Customer10/24/2012   1.385e+01  2.923e+04   0.000  0.99962    \n",
      "Dt_Customer10/24/2013  -2.122e+01  1.393e+04  -0.002  0.99878    \n",
      "Dt_Customer10/25/2012  -2.050e+01  2.066e+04  -0.001  0.99921    \n",
      "Dt_Customer10/25/2013  -2.278e+01  1.109e+04  -0.002  0.99836    \n",
      "Dt_Customer10/26/2012  -2.353e+01  1.425e+04  -0.002  0.99868    \n",
      "Dt_Customer10/26/2013  -2.116e+01  2.923e+04  -0.001  0.99942    \n",
      "Dt_Customer10/27/2012  -2.175e+01  2.026e+04  -0.001  0.99914    \n",
      "Dt_Customer10/27/2013  -2.461e+01  1.934e+04  -0.001  0.99898    \n",
      "Dt_Customer10/28/2012   1.798e+00  2.402e+00   0.748  0.45431    \n",
      "Dt_Customer10/28/2013  -4.787e+00  2.496e+00  -1.918  0.05514 .  \n",
      "Dt_Customer10/29/2012  -4.988e-02  2.280e+00  -0.022  0.98255    \n",
      "Dt_Customer10/29/2013  -3.834e+00  2.766e+00  -1.386  0.16580    \n",
      "Dt_Customer10/3/2013   -6.738e+00  2.737e+00  -2.462  0.01383 *  \n",
      "Dt_Customer10/3/2014   -5.637e+00  2.509e+00  -2.247  0.02466 *  \n",
      "Dt_Customer10/30/2012   1.755e+01  2.923e+04   0.001  0.99952    \n",
      "Dt_Customer10/30/2013  -2.423e+01  1.855e+04  -0.001  0.99896    \n",
      "Dt_Customer10/31/2012  -2.592e+01  1.054e+04  -0.002  0.99804    \n",
      "Dt_Customer10/4/2013   -2.563e+01  1.962e+04  -0.001  0.99896    \n",
      "Dt_Customer10/4/2014    1.836e+01  2.923e+04   0.001  0.99950    \n",
      "Dt_Customer10/5/2013   -1.621e+00  5.771e+00  -0.281  0.77878    \n",
      "Dt_Customer10/5/2014   -2.021e+01  2.032e+04  -0.001  0.99921    \n",
      "Dt_Customer10/6/2013   -2.285e+01  1.440e+04  -0.002  0.99873    \n",
      "Dt_Customer10/6/2014   -2.255e+01  1.595e+04  -0.001  0.99887    \n",
      "Dt_Customer10/8/2012   -2.137e+01  2.923e+04  -0.001  0.99942    \n",
      "Dt_Customer10/8/2013   -1.825e+01  2.923e+04  -0.001  0.99950    \n",
      "Dt_Customer10/9/2012   -3.146e+00  2.830e+00  -1.111  0.26641    \n",
      "Dt_Customer10/9/2013   -4.131e+00  2.874e+00  -1.437  0.15065    \n",
      "Dt_Customer11/1/2013    1.555e+01  1.656e+04   0.001  0.99925    \n",
      "Dt_Customer11/1/2014   -2.221e+01  1.173e+04  -0.002  0.99849    \n",
      "Dt_Customer11/10/2012   1.814e+01  2.923e+04   0.001  0.99950    \n",
      "Dt_Customer11/10/2013  -2.423e+01  1.636e+04  -0.001  0.99882    \n",
      "Dt_Customer11/11/2012  -4.496e+00  2.642e+00  -1.702  0.08879 .  \n",
      "Dt_Customer11/12/2012  -2.180e+01  1.466e+04  -0.001  0.99881    \n",
      "Dt_Customer11/12/2013  -2.442e+01  1.260e+04  -0.002  0.99845    \n",
      "Dt_Customer11/13/2012   1.030e-01  2.569e+00   0.040  0.96802    \n",
      "Dt_Customer11/13/2013  -1.840e+01  2.066e+04  -0.001  0.99929    \n",
      "Dt_Customer11/14/2012  -2.518e+01  2.923e+04  -0.001  0.99931    \n",
      "Dt_Customer11/14/2013  -2.398e+00  2.657e+00  -0.903  0.36663    \n",
      "Dt_Customer11/15/2013  -2.534e+01  1.114e+04  -0.002  0.99819    \n",
      "Dt_Customer11/16/2012  -2.500e+01  2.042e+04  -0.001  0.99902    \n",
      "Dt_Customer11/17/2012  -1.663e+00  2.313e+00  -0.719  0.47231    \n",
      "Dt_Customer11/17/2013  -2.550e+01  1.420e+04  -0.002  0.99857    \n",
      "Dt_Customer11/18/2012  -2.130e+01  2.923e+04  -0.001  0.99942    \n",
      "Dt_Customer11/18/2013  -2.643e+01  2.923e+04  -0.001  0.99928    \n",
      "Dt_Customer11/19/2012   1.730e+01  2.923e+04   0.001  0.99953    \n",
      "Dt_Customer11/19/2013  -3.191e+00  2.581e+00  -1.236  0.21635    \n",
      "Dt_Customer11/2/2013   -2.175e+01  1.350e+04  -0.002  0.99871    \n",
      "Dt_Customer11/2/2014   -2.432e+01  1.350e+04  -0.002  0.99856    \n",
      "Dt_Customer11/20/2012  -1.754e+01  2.923e+04  -0.001  0.99952    \n",
      "Dt_Customer11/20/2013  -2.217e+01  1.821e+04  -0.001  0.99903    \n",
      "Dt_Customer11/21/2012  -2.339e+01  2.923e+04  -0.001  0.99936    \n",
      "Dt_Customer11/21/2013  -3.422e+00  4.206e+00  -0.814  0.41592    \n",
      "Dt_Customer11/22/2012  -2.408e+01  1.589e+04  -0.002  0.99879    \n",
      "Dt_Customer11/22/2013  -2.374e+01  1.621e+04  -0.001  0.99883    \n",
      "Dt_Customer11/23/2012  -2.509e+01  1.085e+04  -0.002  0.99816    \n",
      "Dt_Customer11/23/2013  -2.428e+01  1.190e+04  -0.002  0.99837    \n",
      "Dt_Customer11/25/2012  -7.317e-01  3.245e+00  -0.225  0.82160    \n",
      "Dt_Customer11/25/2013  -2.176e+01  2.923e+04  -0.001  0.99941    \n",
      "Dt_Customer11/26/2012  -2.219e+01  1.876e+04  -0.001  0.99906    \n",
      "Dt_Customer11/26/2013  -2.149e+01  1.471e+04  -0.001  0.99883    \n",
      "Dt_Customer11/27/2012  -2.536e+01  2.923e+04  -0.001  0.99931    \n",
      "Dt_Customer11/27/2013  -2.647e+01  2.029e+04  -0.001  0.99896    \n",
      "Dt_Customer11/28/2012  -2.642e+01  1.333e+04  -0.002  0.99842    \n",
      "Dt_Customer11/28/2013  -4.264e-01  3.799e+00  -0.112  0.91062    \n",
      "Dt_Customer11/29/2012  -2.170e+01  1.315e+04  -0.002  0.99868    \n",
      "Dt_Customer11/29/2013  -2.195e+01  1.395e+04  -0.002  0.99874    \n",
      "Dt_Customer11/3/2013   -3.317e+00  3.335e+00  -0.995  0.31983    \n",
      "Dt_Customer11/3/2014   -2.273e+01  1.814e+04  -0.001  0.99900    \n",
      "Dt_Customer11/30/2013  -2.295e+01  2.923e+04  -0.001  0.99937    \n",
      "Dt_Customer11/4/2013   -1.999e+01  2.923e+04  -0.001  0.99945    \n",
      "Dt_Customer11/4/2014   -2.104e+01  1.607e+04  -0.001  0.99896    \n",
      "Dt_Customer11/5/2013   -2.624e+01  1.119e+04  -0.002  0.99813    \n",
      "Dt_Customer11/5/2014   -2.504e+01  9.257e+03  -0.003  0.99784    \n",
      "Dt_Customer11/6/2013   -2.667e+01  1.725e+04  -0.002  0.99877    \n",
      "Dt_Customer11/6/2014   -2.170e+01  2.923e+04  -0.001  0.99941    \n",
      "Dt_Customer11/7/2013   -2.233e+01  2.923e+04  -0.001  0.99939    \n",
      "Dt_Customer11/8/2012   -4.741e+00  3.005e+00  -1.578  0.11460    \n",
      "Dt_Customer11/8/2013   -2.394e+01  1.407e+04  -0.002  0.99864    \n",
      "Dt_Customer11/9/2012   -2.640e+01  1.959e+04  -0.001  0.99892    \n",
      "Dt_Customer11/9/2013   -2.549e+00  2.373e+00  -1.074  0.28272    \n",
      "Dt_Customer12/1/2013   -2.601e+01  7.848e+03  -0.003  0.99736    \n",
      "Dt_Customer12/1/2014   -2.285e+01  2.923e+04  -0.001  0.99938    \n",
      "Dt_Customer12/10/2012  -5.585e+00  2.471e+00  -2.260  0.02380 *  \n",
      "Dt_Customer12/10/2013  -2.349e+01  9.609e+03  -0.002  0.99805    \n",
      "Dt_Customer12/11/2012  -2.393e+01  2.018e+04  -0.001  0.99905    \n",
      "Dt_Customer12/11/2013  -2.085e+01  2.064e+04  -0.001  0.99919    \n",
      "Dt_Customer12/12/2012  -5.143e+00  2.452e+00  -2.097  0.03595 *  \n",
      "Dt_Customer12/12/2013  -2.987e+01  1.266e+04  -0.002  0.99812    \n",
      "Dt_Customer12/14/2012  -2.175e+01  2.923e+04  -0.001  0.99941    \n",
      "Dt_Customer12/14/2013  -3.541e+00  3.240e+00  -1.093  0.27456    \n",
      "Dt_Customer12/15/2012  -3.134e+00  2.826e+00  -1.109  0.26751    \n",
      "Dt_Customer12/15/2013  -2.433e+01  1.929e+04  -0.001  0.99899    \n",
      "Dt_Customer12/16/2012  -2.053e+01  1.655e+04  -0.001  0.99901    \n",
      "Dt_Customer12/16/2013  -7.204e+00  2.533e+00  -2.844  0.00446 ** \n",
      "Dt_Customer12/17/2012  -1.837e+01  2.923e+04  -0.001  0.99950    \n",
      "Dt_Customer12/17/2013  -2.366e+01  1.496e+04  -0.002  0.99874    \n",
      "Dt_Customer12/18/2012  -1.986e+00  2.493e+00  -0.797  0.42566    \n",
      "Dt_Customer12/18/2013  -2.055e+01  2.923e+04  -0.001  0.99944    \n",
      "Dt_Customer12/19/2012  -2.576e+01  1.916e+04  -0.001  0.99893    \n",
      "Dt_Customer12/19/2013  -2.144e+01  1.921e+04  -0.001  0.99911    \n",
      "Dt_Customer12/2/2013   -3.165e+00  2.633e+00  -1.202  0.22930    \n",
      "Dt_Customer12/2/2014   -5.481e+00  2.687e+00  -2.040  0.04137 *  \n",
      "Dt_Customer12/20/2012  -1.850e+01  2.923e+04  -0.001  0.99950    \n",
      "Dt_Customer12/20/2013  -3.776e+00  3.666e+00  -1.030  0.30294    \n",
      "Dt_Customer12/21/2012  -2.486e+01  2.923e+04  -0.001  0.99932    \n",
      "Dt_Customer12/21/2013  -2.221e+01  1.770e+04  -0.001  0.99900    \n",
      "Dt_Customer12/22/2012  -5.132e+00  3.174e+00  -1.617  0.10586    \n",
      "Dt_Customer12/22/2013  -1.723e+01  2.923e+04  -0.001  0.99953    \n",
      "Dt_Customer12/23/2012  -2.133e+01  1.840e+04  -0.001  0.99907    \n",
      "Dt_Customer12/23/2013  -2.307e+01  1.496e+04  -0.002  0.99877    \n",
      "Dt_Customer12/24/2012  -2.145e+01  1.346e+04  -0.002  0.99873    \n",
      "Dt_Customer12/24/2013  -2.474e+01  1.639e+04  -0.002  0.99880    \n",
      "Dt_Customer12/25/2012  -2.283e+01  1.848e+04  -0.001  0.99901    \n",
      "Dt_Customer12/25/2013  -1.926e+01  1.533e+04  -0.001  0.99900    \n",
      "Dt_Customer12/26/2012  -1.925e+01  2.923e+04  -0.001  0.99947    \n",
      "Dt_Customer12/26/2013  -2.715e+01  1.507e+04  -0.002  0.99856    \n",
      "Dt_Customer12/27/2012  -2.253e+01  2.923e+04  -0.001  0.99938    \n",
      "Dt_Customer12/27/2013  -2.457e+01  1.402e+04  -0.002  0.99860    \n",
      "Dt_Customer12/28/2012  -2.079e+01  1.680e+04  -0.001  0.99901    \n",
      "Dt_Customer12/28/2013  -2.389e+01  2.923e+04  -0.001  0.99935    \n",
      "Dt_Customer12/29/2012  -2.769e+00  5.922e+00  -0.468  0.64003    \n",
      "Dt_Customer12/29/2013  -2.890e+00  2.531e+00  -1.142  0.25350    \n",
      "Dt_Customer12/3/2013   -4.125e+00  2.555e+00  -1.615  0.10642    \n",
      "Dt_Customer12/3/2014   -2.249e+01  1.153e+04  -0.002  0.99844    \n",
      "Dt_Customer12/30/2012  -5.636e+00  2.409e+00  -2.340  0.01931 *  \n",
      "Dt_Customer12/30/2013  -2.387e+01  1.532e+04  -0.002  0.99876    \n",
      "Dt_Customer12/31/2012  -2.074e+01  2.923e+04  -0.001  0.99943    \n",
      "Dt_Customer12/31/2013  -2.381e+01  1.478e+04  -0.002  0.99871    \n",
      "Dt_Customer12/4/2013   -2.521e+01  2.923e+04  -0.001  0.99931    \n",
      "Dt_Customer12/4/2014   -2.289e+01  2.059e+04  -0.001  0.99911    \n",
      "Dt_Customer12/5/2013   -2.276e+01  1.682e+04  -0.001  0.99892    \n",
      "Dt_Customer12/5/2014   -2.700e+01  6.583e+03  -0.004  0.99673    \n",
      "Dt_Customer12/6/2013   -1.868e+01  1.649e+04  -0.001  0.99910    \n",
      "Dt_Customer12/7/2013   -2.299e+01  1.335e+04  -0.002  0.99863    \n",
      "Dt_Customer12/8/2012   -2.061e+01  2.064e+04  -0.001  0.99920    \n",
      "Dt_Customer12/9/2012   -3.363e+00  2.398e+00  -1.402  0.16089    \n",
      "Dt_Customer12/9/2013   -2.171e+01  1.027e+04  -0.002  0.99831    \n",
      "Dt_Customer2/1/2013    -2.397e+00  2.419e+00  -0.991  0.32174    \n",
      "Dt_Customer2/1/2014    -1.985e+01  2.062e+04  -0.001  0.99923    \n",
      "Dt_Customer2/10/2012    2.294e+01  2.923e+04   0.001  0.99937    \n",
      "Dt_Customer2/10/2013   -2.482e+01  1.310e+04  -0.002  0.99849    \n",
      "Dt_Customer2/11/2012    1.850e+01  2.018e+04   0.001  0.99927    \n",
      "Dt_Customer2/11/2013   -2.121e+01  1.241e+04  -0.002  0.99864    \n",
      "Dt_Customer2/12/2012   -2.155e+01  2.923e+04  -0.001  0.99941    \n",
      "Dt_Customer2/12/2013   -2.570e+01  1.403e+04  -0.002  0.99854    \n",
      "Dt_Customer2/13/2013   -2.470e+01  1.098e+04  -0.002  0.99821    \n",
      "Dt_Customer2/13/2014   -2.608e+01  1.872e+04  -0.001  0.99889    \n",
      "Dt_Customer2/14/2013   -5.014e+00  2.438e+00  -2.057  0.03973 *  \n",
      "Dt_Customer2/15/2013   -2.210e+01  2.011e+04  -0.001  0.99912    \n",
      "Dt_Customer2/15/2014   -2.872e+00  2.603e+00  -1.103  0.26986    \n",
      "Dt_Customer2/16/2013   -2.488e+01  1.034e+04  -0.002  0.99808    \n",
      "Dt_Customer2/16/2014   -2.115e+01  1.467e+04  -0.001  0.99885    \n",
      "Dt_Customer2/17/2013   -2.122e+01  1.513e+04  -0.001  0.99888    \n",
      "Dt_Customer2/17/2014   -1.514e+01  2.923e+04  -0.001  0.99959    \n",
      "Dt_Customer2/18/2013   -2.574e+01  1.997e+04  -0.001  0.99897    \n",
      "Dt_Customer2/18/2014   -2.049e+01  1.668e+04  -0.001  0.99902    \n",
      "Dt_Customer2/19/2013   -4.865e+00  2.531e+00  -1.922  0.05457 .  \n",
      "Dt_Customer2/19/2014   -1.682e+00  3.011e+00  -0.558  0.57651    \n",
      "Dt_Customer2/2/2013     5.900e-01  2.746e+00   0.215  0.82986    \n",
      "Dt_Customer2/2/2014    -2.302e+01  1.181e+04  -0.002  0.99844    \n",
      "Dt_Customer2/20/2013   -2.599e+01  1.401e+04  -0.002  0.99852    \n",
      "Dt_Customer2/21/2013   -2.241e+01  2.048e+04  -0.001  0.99913    \n",
      "Dt_Customer2/22/2013    5.358e-02  2.632e+00   0.020  0.98376    \n",
      "Dt_Customer2/22/2014    1.895e+01  2.923e+04   0.001  0.99948    \n",
      "Dt_Customer2/23/2013   -2.263e+01  2.063e+04  -0.001  0.99913    \n",
      "Dt_Customer2/23/2014   -2.087e+01  2.923e+04  -0.001  0.99943    \n",
      "Dt_Customer2/24/2014   -3.254e+00  2.773e+00  -1.174  0.24058    \n",
      "Dt_Customer2/25/2013   -3.512e+00  2.544e+00  -1.380  0.16746    \n",
      "Dt_Customer2/25/2014   -9.915e-01  6.497e+00  -0.153  0.87870    \n",
      "Dt_Customer2/26/2013   -2.125e+01  2.923e+04  -0.001  0.99942    \n",
      "Dt_Customer2/26/2014   -1.892e+01  2.049e+04  -0.001  0.99926    \n",
      "Dt_Customer2/27/2013   -2.813e+00  4.066e+00  -0.692  0.48910    \n",
      "Dt_Customer2/27/2014   -2.657e+01  2.923e+04  -0.001  0.99927    \n",
      "Dt_Customer2/28/2013   -1.038e+00  1.129e+01  -0.092  0.92679    \n",
      "Dt_Customer2/28/2014   -2.228e+01  2.028e+04  -0.001  0.99912    \n",
      "Dt_Customer2/3/2014    -1.882e+01  2.031e+04  -0.001  0.99926    \n",
      "Dt_Customer2/4/2013     1.817e+01  2.055e+04   0.001  0.99929    \n",
      "Dt_Customer2/4/2014    -2.869e+01  2.923e+04  -0.001  0.99922    \n",
      "Dt_Customer2/5/2013    -2.203e+01  1.291e+04  -0.002  0.99864    \n",
      "Dt_Customer2/5/2014    -2.336e+01  1.226e+04  -0.002  0.99848    \n",
      "Dt_Customer2/6/2013    -3.399e+01  1.549e+04  -0.002  0.99825    \n",
      "Dt_Customer2/6/2014    -2.312e+01  2.028e+04  -0.001  0.99909    \n",
      "Dt_Customer2/7/2013    -2.407e+01  1.418e+04  -0.002  0.99865    \n",
      "Dt_Customer2/8/2012    -2.254e+01  1.520e+04  -0.001  0.99882    \n",
      "Dt_Customer2/8/2013    -2.118e+01  2.060e+04  -0.001  0.99918    \n",
      "Dt_Customer2/9/2013    -2.284e+01  1.959e+04  -0.001  0.99907    \n",
      "Dt_Customer3/1/2013    -2.519e+01  2.923e+04  -0.001  0.99931    \n",
      "Dt_Customer3/1/2014    -2.491e+01  1.658e+04  -0.002  0.99880    \n",
      "Dt_Customer3/10/2013   -2.254e+01  1.194e+04  -0.002  0.99849    \n",
      "Dt_Customer3/11/2012   -2.258e+01  1.025e+04  -0.002  0.99824    \n",
      "Dt_Customer3/11/2013   -2.309e+01  1.201e+04  -0.002  0.99847    \n",
      "Dt_Customer3/12/2012   -1.954e+00  2.734e+00  -0.715  0.47477    \n",
      "Dt_Customer3/12/2013   -2.098e+01  2.923e+04  -0.001  0.99943    \n",
      "Dt_Customer3/13/2014   -2.468e+01  2.923e+04  -0.001  0.99933    \n",
      "Dt_Customer3/14/2013   -2.511e+01  2.923e+04  -0.001  0.99931    \n",
      "Dt_Customer3/15/2013   -2.405e+01  1.923e+04  -0.001  0.99900    \n",
      "Dt_Customer3/16/2013   -2.297e+01  2.923e+04  -0.001  0.99937    \n",
      "Dt_Customer3/16/2014   -2.016e+01  1.916e+04  -0.001  0.99916    \n",
      "Dt_Customer3/17/2013   -2.601e+01  1.323e+04  -0.002  0.99843    \n",
      "Dt_Customer3/17/2014   -2.823e+00  2.334e+00  -1.210  0.22647    \n",
      "Dt_Customer3/18/2013   -3.254e+00  2.741e+00  -1.187  0.23512    \n",
      "Dt_Customer3/18/2014   -2.253e+01  1.533e+04  -0.001  0.99883    \n",
      "Dt_Customer3/19/2013   -2.439e+01  1.207e+04  -0.002  0.99839    \n",
      "Dt_Customer3/19/2014   -3.884e+00  2.597e+00  -1.496  0.13470    \n",
      "Dt_Customer3/2/2013    -2.250e+01  2.923e+04  -0.001  0.99939    \n",
      "Dt_Customer3/2/2014    -2.283e+01  2.923e+04  -0.001  0.99938    \n",
      "Dt_Customer3/20/2013    3.992e-01  2.718e+00   0.147  0.88322    \n",
      "Dt_Customer3/20/2014   -2.372e+01  1.537e+04  -0.002  0.99877    \n",
      "Dt_Customer3/21/2013   -2.175e+01  2.923e+04  -0.001  0.99941    \n",
      "Dt_Customer3/21/2014   -1.893e+01  2.923e+04  -0.001  0.99948    \n",
      "Dt_Customer3/22/2013   -2.161e+01  1.533e+04  -0.001  0.99887    \n",
      "Dt_Customer3/22/2014   -2.410e+01  2.923e+04  -0.001  0.99934    \n",
      "Dt_Customer3/23/2013   -2.605e+01  1.344e+04  -0.002  0.99845    \n",
      "Dt_Customer3/23/2014   -2.212e+00  2.934e+00  -0.754  0.45094    \n",
      "Dt_Customer3/24/2013   -1.930e+01  1.639e+04  -0.001  0.99906    \n",
      "Dt_Customer3/24/2014   -2.298e+01  1.610e+04  -0.001  0.99886    \n",
      "Dt_Customer3/25/2013   -2.322e+01  2.923e+04  -0.001  0.99937    \n",
      "Dt_Customer3/25/2014   -2.432e+01  1.411e+04  -0.002  0.99862    \n",
      "Dt_Customer3/26/2013   -2.317e+01  1.304e+04  -0.002  0.99858    \n",
      "Dt_Customer3/26/2014   -2.206e+01  2.065e+04  -0.001  0.99915    \n",
      "Dt_Customer3/27/2013   -1.496e+00  2.499e+00  -0.599  0.54940    \n",
      "Dt_Customer3/27/2014   -1.967e+01  2.923e+04  -0.001  0.99946    \n",
      "Dt_Customer3/28/2013   -2.236e+01  1.179e+04  -0.002  0.99849    \n",
      "Dt_Customer3/28/2014   -2.392e+01  2.923e+04  -0.001  0.99935    \n",
      "Dt_Customer3/29/2013   -2.128e+01  1.334e+04  -0.002  0.99873    \n",
      "Dt_Customer3/29/2014   -2.293e+01  1.137e+04  -0.002  0.99839    \n",
      "Dt_Customer3/3/2013    -4.834e+00  2.553e+00  -1.894  0.05828 .  \n",
      "Dt_Customer3/3/2014    -2.394e+01  1.573e+04  -0.002  0.99879    \n",
      "Dt_Customer3/30/2013   -2.835e+01  1.764e+04  -0.002  0.99872    \n",
      "Dt_Customer3/30/2014   -4.075e+00  2.422e+00  -1.683  0.09241 .  \n",
      "Dt_Customer3/31/2013   -2.612e+01  1.340e+04  -0.002  0.99844    \n",
      "Dt_Customer3/31/2014   -3.914e+00  2.514e+00  -1.557  0.11950    \n",
      "Dt_Customer3/4/2013     5.156e-01  2.544e+00   0.203  0.83937    \n",
      "Dt_Customer3/4/2014    -2.251e+01  1.951e+04  -0.001  0.99908    \n",
      "Dt_Customer3/5/2013    -1.577e+01  2.923e+04  -0.001  0.99957    \n",
      "Dt_Customer3/5/2014    -2.688e+01  1.646e+04  -0.002  0.99870    \n",
      "Dt_Customer3/6/2013    -5.079e+00  2.389e+00  -2.126  0.03346 *  \n",
      "Dt_Customer3/6/2014    -2.016e+01  2.923e+04  -0.001  0.99945    \n",
      "Dt_Customer3/7/2013    -2.335e+01  1.065e+04  -0.002  0.99825    \n",
      "Dt_Customer3/8/2012    -3.756e+00  2.540e+00  -1.479  0.13926    \n",
      "Dt_Customer3/8/2013    -2.152e+01  2.067e+04  -0.001  0.99917    \n",
      "Dt_Customer3/9/2012     2.039e+01  1.306e+04   0.002  0.99875    \n",
      "Dt_Customer4/1/2013     1.764e+01  2.923e+04   0.001  0.99952    \n",
      "Dt_Customer4/1/2014    -1.915e+01  2.042e+04  -0.001  0.99925    \n",
      "Dt_Customer4/10/2012   -7.205e-01  2.335e+00  -0.309  0.75762    \n",
      "Dt_Customer4/10/2013   -2.333e+01  1.096e+04  -0.002  0.99830    \n",
      "Dt_Customer4/11/2013   -1.787e+01  2.923e+04  -0.001  0.99951    \n",
      "Dt_Customer4/12/2012   -2.257e+01  1.979e+04  -0.001  0.99909    \n",
      "Dt_Customer4/12/2013   -2.272e+01  1.917e+04  -0.001  0.99905    \n",
      "Dt_Customer4/13/2013   -2.392e+01  1.109e+04  -0.002  0.99828    \n",
      "Dt_Customer4/13/2014   -2.374e+01  1.009e+04  -0.002  0.99812    \n",
      "Dt_Customer4/14/2013   -2.838e+01  2.923e+04  -0.001  0.99923    \n",
      "Dt_Customer4/14/2014   -1.967e+01  1.990e+04  -0.001  0.99921    \n",
      "Dt_Customer4/15/2013   -2.173e+01  1.347e+04  -0.002  0.99871    \n",
      "Dt_Customer4/16/2013   -2.295e+01  2.923e+04  -0.001  0.99937    \n",
      "Dt_Customer4/16/2014   -2.242e+01  1.361e+04  -0.002  0.99869    \n",
      "Dt_Customer4/17/2013   -2.291e+01  1.720e+04  -0.001  0.99894    \n",
      "Dt_Customer4/17/2014   -1.848e+01  2.923e+04  -0.001  0.99950    \n",
      "Dt_Customer4/18/2013   -3.424e+00  4.381e+00  -0.781  0.43453    \n",
      "Dt_Customer4/18/2014   -3.363e+00  2.768e+00  -1.215  0.22435    \n",
      "Dt_Customer4/19/2013   -2.325e+01  2.923e+04  -0.001  0.99937    \n",
      "Dt_Customer4/19/2014   -2.145e+01  2.923e+04  -0.001  0.99941    \n",
      "Dt_Customer4/2/2013    -2.374e+01  1.830e+04  -0.001  0.99897    \n",
      "Dt_Customer4/2/2014    -2.343e+01  2.923e+04  -0.001  0.99936    \n",
      "Dt_Customer4/20/2013    1.655e+01  2.923e+04   0.001  0.99955    \n",
      "Dt_Customer4/20/2014   -2.346e+01  1.574e+04  -0.001  0.99881    \n",
      "Dt_Customer4/21/2013   -4.554e+00  2.395e+00  -1.902  0.05723 .  \n",
      "Dt_Customer4/21/2014   -2.600e+01  2.038e+04  -0.001  0.99898    \n",
      "Dt_Customer4/22/2013   -2.649e+01  9.086e+03  -0.003  0.99767    \n",
      "Dt_Customer4/22/2014   -2.127e+01  2.923e+04  -0.001  0.99942    \n",
      "Dt_Customer4/23/2013   -4.459e+00  2.975e+00  -1.499  0.13394    \n",
      "Dt_Customer4/23/2014   -2.167e+01  1.432e+04  -0.002  0.99879    \n",
      "Dt_Customer4/24/2013   -8.502e-01  3.491e+00  -0.244  0.80759    \n",
      "Dt_Customer4/24/2014   -2.253e+01  1.254e+04  -0.002  0.99857    \n",
      "Dt_Customer4/25/2013   -2.576e+01  1.795e+04  -0.001  0.99885    \n",
      "Dt_Customer4/25/2014   -2.110e+01  1.943e+04  -0.001  0.99913    \n",
      "Dt_Customer4/26/2014   -2.241e+01  2.923e+04  -0.001  0.99939    \n",
      "Dt_Customer4/27/2013   -2.209e+01  1.289e+04  -0.002  0.99863    \n",
      "Dt_Customer4/27/2014   -2.603e+01  2.923e+04  -0.001  0.99929    \n",
      "Dt_Customer4/28/2014   -2.275e+01  2.058e+04  -0.001  0.99912    \n",
      "Dt_Customer4/29/2013   -3.592e+01  1.145e+04  -0.003  0.99750    \n",
      "Dt_Customer4/29/2014   -1.623e+00  2.650e+00  -0.613  0.54012    \n",
      "Dt_Customer4/3/2013     2.048e+01  1.406e+04   0.001  0.99884    \n",
      "Dt_Customer4/3/2014    -2.222e+01  1.912e+04  -0.001  0.99907    \n",
      "Dt_Customer4/30/2014   -1.874e+00  2.594e+00  -0.722  0.47017    \n",
      "Dt_Customer4/4/2014    -2.090e+01  2.923e+04  -0.001  0.99943    \n",
      "Dt_Customer4/5/2013    -2.204e+01  1.463e+04  -0.002  0.99880    \n",
      "Dt_Customer4/5/2014    -2.257e+01  1.611e+04  -0.001  0.99888    \n",
      "Dt_Customer4/6/2013    -2.582e+01  8.711e+03  -0.003  0.99763    \n",
      "Dt_Customer4/6/2014    -2.064e+01  2.923e+04  -0.001  0.99944    \n",
      "Dt_Customer4/7/2013    -3.564e+00  2.595e+00  -1.373  0.16962    \n",
      "Dt_Customer4/8/2012    -8.475e+00  1.187e+01  -0.714  0.47535    \n",
      "Dt_Customer4/8/2013     1.380e+01  2.923e+04   0.000  0.99962    \n",
      "Dt_Customer4/9/2012    -2.074e-01  2.706e+00  -0.077  0.93891    \n",
      "Dt_Customer4/9/2013    -2.170e+01  1.992e+04  -0.001  0.99913    \n",
      "Dt_Customer5/1/2013    -2.538e+01  1.204e+04  -0.002  0.99832    \n",
      "Dt_Customer5/10/2012   -2.121e+01  1.164e+04  -0.002  0.99855    \n",
      "Dt_Customer5/10/2013   -2.079e+01  2.923e+04  -0.001  0.99943    \n",
      "Dt_Customer5/11/2012   -2.654e+01  9.015e+03  -0.003  0.99765    \n",
      "Dt_Customer5/11/2013   -2.711e+01  1.910e+04  -0.001  0.99887    \n",
      "Dt_Customer5/12/2012   -2.076e+01  2.061e+04  -0.001  0.99920    \n",
      "Dt_Customer5/12/2013   -2.280e+01  1.870e+04  -0.001  0.99903    \n",
      "Dt_Customer5/13/2014   -2.537e+01  1.362e+04  -0.002  0.99851    \n",
      "Dt_Customer5/14/2013   -2.338e+01  2.923e+04  -0.001  0.99936    \n",
      "Dt_Customer5/15/2013   -2.359e+01  1.494e+04  -0.002  0.99874    \n",
      "Dt_Customer5/15/2014   -2.389e+01  2.923e+04  -0.001  0.99935    \n",
      "Dt_Customer5/17/2013   -2.275e+01  1.305e+04  -0.002  0.99861    \n",
      "Dt_Customer5/17/2014   -2.337e+01  2.066e+04  -0.001  0.99910    \n",
      "Dt_Customer5/18/2013   -6.413e+00  2.754e+00  -2.328  0.01990 *  \n",
      "Dt_Customer5/18/2014   -2.506e+01  1.532e+04  -0.002  0.99869    \n",
      "Dt_Customer5/19/2013   -2.012e+01  2.923e+04  -0.001  0.99945    \n",
      "Dt_Customer5/19/2014   -2.494e+00  2.324e+00  -1.073  0.28323    \n",
      "Dt_Customer5/2/2014    -2.176e+01  1.981e+04  -0.001  0.99912    \n",
      "Dt_Customer5/20/2013   -4.564e+00  2.590e+00  -1.762  0.07805 .  \n",
      "Dt_Customer5/21/2013    1.930e+00  2.785e+00   0.693  0.48822    \n",
      "Dt_Customer5/22/2013   -2.746e+00  2.307e+00  -1.190  0.23405    \n",
      "Dt_Customer5/22/2014   -2.412e+01  8.350e+03  -0.003  0.99770    \n",
      "Dt_Customer5/23/2013   -1.841e+01  2.063e+04  -0.001  0.99929    \n",
      "Dt_Customer5/23/2014   -4.095e+00  2.480e+00  -1.651  0.09873 .  \n",
      "Dt_Customer5/24/2013   -2.152e+01  2.923e+04  -0.001  0.99941    \n",
      "Dt_Customer5/24/2014   -2.036e+01  1.432e+04  -0.001  0.99887    \n",
      "Dt_Customer5/25/2013   -2.132e+01  2.923e+04  -0.001  0.99942    \n",
      "Dt_Customer5/25/2014   -2.091e+01  1.825e+04  -0.001  0.99909    \n",
      "Dt_Customer5/26/2013   -2.188e+01  1.540e+04  -0.001  0.99887    \n",
      "Dt_Customer5/26/2014   -2.140e+01  1.591e+04  -0.001  0.99893    \n",
      "Dt_Customer5/27/2013   -2.352e+01  2.923e+04  -0.001  0.99936    \n",
      "Dt_Customer5/28/2013   -2.358e+01  1.513e+04  -0.002  0.99876    \n",
      "Dt_Customer5/28/2014   -5.626e+00  3.589e+00  -1.568  0.11694    \n",
      "Dt_Customer5/29/2013   -3.713e+00  4.159e+00  -0.893  0.37196    \n",
      "Dt_Customer5/29/2014   -2.326e+01  1.381e+04  -0.002  0.99866    \n",
      "Dt_Customer5/3/2014    -2.229e+01  2.038e+04  -0.001  0.99913    \n",
      "Dt_Customer5/30/2013   -2.265e+01  1.927e+04  -0.001  0.99906    \n",
      "Dt_Customer5/30/2014   -2.594e+01  2.923e+04  -0.001  0.99929    \n",
      "Dt_Customer5/31/2013   -2.239e+01  2.016e+04  -0.001  0.99911    \n",
      "Dt_Customer5/31/2014   -2.514e+01  1.641e+04  -0.002  0.99878    \n",
      "Dt_Customer5/4/2013    -5.147e+00  2.828e+00  -1.820  0.06882 .  \n",
      "Dt_Customer5/4/2014    -2.524e+01  9.588e+03  -0.003  0.99790    \n",
      "Dt_Customer5/5/2013    -2.320e+00  6.598e+00  -0.352  0.72515    \n",
      "Dt_Customer5/5/2014    -2.405e+01  2.923e+04  -0.001  0.99934    \n",
      "Dt_Customer5/6/2014    -2.184e+01  1.652e+04  -0.001  0.99895    \n",
      "Dt_Customer5/7/2013    -2.400e+01  1.184e+04  -0.002  0.99838    \n",
      "Dt_Customer5/8/2012    -2.038e+01  2.923e+04  -0.001  0.99944    \n",
      "Dt_Customer5/8/2013    -2.068e+01  1.595e+04  -0.001  0.99897    \n",
      "Dt_Customer5/9/2013    -2.384e+01  1.744e+04  -0.001  0.99891    \n",
      "Dt_Customer6/1/2013    -2.315e+01  2.923e+04  -0.001  0.99937    \n",
      "Dt_Customer6/1/2014    -2.227e+01  2.923e+04  -0.001  0.99939    \n",
      "Dt_Customer6/10/2012   -2.699e+01  1.917e+04  -0.001  0.99888    \n",
      "Dt_Customer6/10/2013   -2.487e+01  1.414e+04  -0.002  0.99860    \n",
      "Dt_Customer6/11/2012   -2.798e+00  2.667e+00  -1.049  0.29413    \n",
      "Dt_Customer6/11/2013   -1.624e+00  2.768e+00  -0.587  0.55733    \n",
      "Dt_Customer6/12/2012   -2.223e+01  2.067e+04  -0.001  0.99914    \n",
      "Dt_Customer6/12/2013   -2.470e+01  2.923e+04  -0.001  0.99933    \n",
      "Dt_Customer6/13/2013   -2.464e+01  1.131e+04  -0.002  0.99826    \n",
      "Dt_Customer6/14/2013   -2.257e+01  1.607e+04  -0.001  0.99888    \n",
      "Dt_Customer6/14/2014   -2.123e+01  2.923e+04  -0.001  0.99942    \n",
      "Dt_Customer6/15/2014   -3.937e+00  3.796e+00  -1.037  0.29971    \n",
      "Dt_Customer6/16/2013   -2.481e+01  2.923e+04  -0.001  0.99932    \n",
      "Dt_Customer6/16/2014   -2.829e+00  3.684e+00  -0.768  0.44262    \n",
      "Dt_Customer6/17/2013   -2.277e+01  2.923e+04  -0.001  0.99938    \n",
      "Dt_Customer6/17/2014   -2.046e+00  3.289e+00  -0.622  0.53386    \n",
      "Dt_Customer6/18/2013   -1.907e+00  2.580e+00  -0.739  0.45978    \n",
      "Dt_Customer6/18/2014   -2.388e+01  1.510e+04  -0.002  0.99874    \n",
      "Dt_Customer6/19/2013   -2.256e+01  1.660e+04  -0.001  0.99892    \n",
      "Dt_Customer6/19/2014   -2.104e+01  2.045e+04  -0.001  0.99918    \n",
      "Dt_Customer6/2/2013    -2.516e+01  1.235e+04  -0.002  0.99837    \n",
      "Dt_Customer6/2/2014    -3.482e+00  4.294e+00  -0.811  0.41746    \n",
      "Dt_Customer6/20/2013   -2.179e+01  1.322e+04  -0.002  0.99868    \n",
      "Dt_Customer6/20/2014   -2.093e+01  1.907e+04  -0.001  0.99912    \n",
      "Dt_Customer6/21/2013   -2.007e+01  1.677e+04  -0.001  0.99904    \n",
      "Dt_Customer6/22/2013   -3.006e+00  2.626e+00  -1.145  0.25233    \n",
      "Dt_Customer6/22/2014   -2.642e+01  1.052e+04  -0.003  0.99800    \n",
      "Dt_Customer6/23/2013   -2.369e+01  1.452e+04  -0.002  0.99870    \n",
      "Dt_Customer6/23/2014   -3.020e+00  2.648e+00  -1.140  0.25410    \n",
      "Dt_Customer6/24/2013   -2.266e+01  2.923e+04  -0.001  0.99938    \n",
      "Dt_Customer6/24/2014   -1.918e+01  1.855e+04  -0.001  0.99917    \n",
      "Dt_Customer6/25/2013   -2.091e+01  2.923e+04  -0.001  0.99943    \n",
      "Dt_Customer6/25/2014   -2.384e+01  1.651e+04  -0.001  0.99885    \n",
      "Dt_Customer6/26/2014   -2.188e+01  1.258e+04  -0.002  0.99861    \n",
      "Dt_Customer6/27/2013   -2.463e+01  1.349e+04  -0.002  0.99854    \n",
      "Dt_Customer6/27/2014   -2.355e+01  1.407e+04  -0.002  0.99866    \n",
      "Dt_Customer6/28/2013    1.932e+01  1.880e+04   0.001  0.99918    \n",
      "Dt_Customer6/28/2014   -2.117e+01  1.623e+04  -0.001  0.99896    \n",
      "Dt_Customer6/29/2013   -4.605e+00  2.517e+00  -1.829  0.06739 .  \n",
      "Dt_Customer6/29/2014   -2.581e+01  1.873e+04  -0.001  0.99890    \n",
      "Dt_Customer6/3/2013    -2.271e+01  2.923e+04  -0.001  0.99938    \n",
      "Dt_Customer6/3/2014     7.642e-01  8.690e+00   0.088  0.92992    \n",
      "Dt_Customer6/30/2013   -2.444e+01  1.471e+04  -0.002  0.99867    \n",
      "Dt_Customer6/4/2013    -1.615e+00  2.568e+00  -0.629  0.52950    \n",
      "Dt_Customer6/4/2014    -2.308e+01  2.923e+04  -0.001  0.99937    \n",
      "Dt_Customer6/5/2013    -1.911e+00  2.603e+00  -0.734  0.46275    \n",
      "Dt_Customer6/5/2014    -2.461e+01  2.062e+04  -0.001  0.99905    \n",
      "Dt_Customer6/6/2013    -4.014e+00  2.492e+00  -1.611  0.10723    \n",
      "Dt_Customer6/6/2014    -1.650e+01  2.923e+04  -0.001  0.99955    \n",
      "Dt_Customer6/7/2013    -2.556e+01  1.767e+04  -0.001  0.99885    \n",
      "Dt_Customer6/8/2012    -4.093e+00  2.903e+00  -1.410  0.15850    \n",
      "Dt_Customer6/8/2013    -2.969e+00  2.557e+00  -1.161  0.24567    \n",
      "Dt_Customer6/9/2012    -1.416e+00  3.114e+00  -0.455  0.64925    \n",
      "Dt_Customer6/9/2013    -2.275e+01  1.506e+04  -0.002  0.99880    \n",
      "Dt_Customer7/1/2013    -2.254e+01  1.708e+04  -0.001  0.99895    \n",
      "Dt_Customer7/1/2014    -3.452e+00"
     ]
    },
    {
     "name": "stderr",
     "output_type": "stream",
     "text": [
      "IOPub message rate exceeded.\n",
      "The Jupyter server will temporarily stop sending output\n",
      "to the client in order to avoid crashing it.\n",
      "To change this limit, set the config variable\n",
      "`--ServerApp.iopub_msg_rate_limit`.\n",
      "\n",
      "Current values:\n",
      "ServerApp.iopub_msg_rate_limit=1000.0 (msgs/sec)\n",
      "ServerApp.rate_limit_window=3.0 (secs)\n",
      "\n"
     ]
    }
   ],
   "source": [
    "try:\n",
    "    # Se define el Modelo-1\n",
    "    ro.r('''\n",
    "        # Modelo-1\n",
    "        log_lr = glm(Response ~.,family = \"binomial\", train)\n",
    "        print(summary(log_lr))\n",
    "\n",
    "        # Este resultado proporciona información sobre los coeficientes, su importancia, el ajuste del modelo y la calidad. \n",
    "        # Los puntos clave a tener en cuenta son la importancia de los coeficientes, la desviación del modelo y el valor AIC \n",
    "        # Se puede observar del resultado que El modelo hace su coeficiente depende por el valor que este ingreasdo en cada columna por el cual \n",
    "        # la fecha en que se registraron en la tienda se etiende con varios valores ya que varia mucho en la fecha de registro del cliente.\n",
    "    ''') \n",
    "except Exception as e:\n",
    "    print(f\"Ocurrió un error al ajustar el modelo: {e}\")"
   ]
  },
  {
   "cell_type": "markdown",
   "id": "76e727f5-05c6-4f80-8a04-bc894286168c",
   "metadata": {},
   "source": [
    "Este resultado proporciona información sobre los coeficientes, su importancia, el ajuste del modelo y la calidad. \n",
    "Los puntos clave a tener en cuenta son la importancia de los coeficientes, la desviación del modelo y el valor AIC \n",
    "Se puede observar del resultado que el modelo hace su coeficiente dependiendo por el valor que este ingreasdo en cada columna por el cual \n",
    "la fecha de registro de los clientes en la tienda se extiende con varios valores ya que varia mucho en la fecha de registro del cliente."
   ]
  },
  {
   "cell_type": "code",
   "execution_count": 21,
   "id": "ed879116-0644-4916-9c65-6bf570236db0",
   "metadata": {},
   "outputs": [
    {
     "name": "stdout",
     "output_type": "stream",
     "text": [
      "Confusion Matrix and Statistics\n",
      "\n",
      "   act\n",
      "prd    0    1\n",
      "  0 1473   53\n",
      "  1   33  213\n",
      "                                         \n",
      "               Accuracy : 0.9515         \n",
      "                 95% CI : (0.9404, 0.961)\n",
      "    No Information Rate : 0.8499         \n",
      "    P-Value [Acc > NIR] : < 2e-16        \n",
      "                                         \n",
      "                  Kappa : 0.8037         \n",
      "                                         \n",
      " Mcnemar's Test P-Value : 0.04048        \n",
      "                                         \n",
      "            Sensitivity : 0.9781         \n",
      "            Specificity : 0.8008         \n",
      "         Pos Pred Value : 0.9653         \n",
      "         Neg Pred Value : 0.8659         \n",
      "             Prevalence : 0.8499         \n",
      "         Detection Rate : 0.8313         \n",
      "   Detection Prevalence : 0.8612         \n",
      "      Balanced Accuracy : 0.8894         \n",
      "                                         \n",
      "       'Positive' Class : 0              \n",
      "                                         \n"
     ]
    }
   ],
   "source": [
    "try:\n",
    "    # \n",
    "    ro.r('''\n",
    "        # Exactitud de mapeo para el modelo de predicción de la aceptacion de la campaña de ofertas\n",
    "        prd_Val = predict(log_lr, type='response')\n",
    "        prd_default = ifelse(prd_Val > 0.5, 1, 0)\n",
    "        cnf_m = table(prd=prd_default, act=train$Response)\n",
    "        print(confusionMatrix(cnf_m))\n",
    "\n",
    "        # Aquí obtenemos una buena precisión del modelo, de alrededor del 95 %.\n",
    "    ''') \n",
    "except Exception as e:\n",
    "    print(f\"Ocurrió un error al ajustar el modelo: {e}\")"
   ]
  },
  {
   "cell_type": "markdown",
   "id": "49c7ae4c-b405-4293-a8c4-86eaeb388269",
   "metadata": {},
   "source": [
    "Exactitud de mapeo para el modelo de predicción de la aceptacion de la campaña de ofertas\n",
    "Se puede observa que obtenemos una buena precisión del modelo, de alrededor del 95 %."
   ]
  },
  {
   "cell_type": "code",
   "execution_count": 22,
   "id": "722ff419-fb33-4b80-a2b6-168e720daa9f",
   "metadata": {},
   "outputs": [
    {
     "name": "stdout",
     "output_type": "stream",
     "text": [
      "\n",
      "   0    1 \n",
      "2195   21 \n"
     ]
    }
   ],
   "source": [
    "# #Explorar la distribución de la variable objetivo\n",
    "ro.r('''\n",
    "    #Explorar la distribución de la variable objetivo\n",
    "    # Muestra la cantidad de personas que Reclamaron (1) y los que NO Reclamaron (0)\n",
    "    print(table(df$Complain))              \n",
    "''') \n"
   ]
  },
  {
   "cell_type": "markdown",
   "id": "4dbafef8-c05d-4e76-8d30-ac4abad7d931",
   "metadata": {},
   "source": [
    "Muestra la cantidad de personas que Reclamaron (`1`) y los que NO Reclamaron (`0`)"
   ]
  },
  {
   "cell_type": "code",
   "execution_count": 23,
   "id": "ab58d9e8-676d-47a1-960d-0878b73d70f2",
   "metadata": {},
   "outputs": [],
   "source": [
    "# Crea el conjunto de personas que hicieron reclamo (1) y No reclamaron (0)\n",
    "ro.r('''\n",
    "    #Crea el conjunto de personas que hicieron reclamo (1) y No reclamaron (0)\n",
    "    Complain <- df[df$Complain == 1,]\n",
    "    stay <- df[df$Complain == 0,]\n",
    "''') \n"
   ]
  },
  {
   "cell_type": "markdown",
   "id": "92235179-b769-4fae-ab8c-ef98bc6a1474",
   "metadata": {},
   "source": [
    "Crea el conjunto de personas que hicieron reclamo (`1`) y No reclamaron (`0`)"
   ]
  },
  {
   "cell_type": "code",
   "execution_count": 24,
   "id": "43a82e3e-bc76-4768-afec-37f6b2ceac72",
   "metadata": {},
   "outputs": [
    {
     "data": {
      "image/png": "[encoded data removed]",
      "text/plain": [
       "<IPython.core.display.Image object>"
      ]
     },
     "execution_count": 24,
     "metadata": {},
     "output_type": "execute_result"
    }
   ],
   "source": [
    "# Abrir el dispositivo gráfico para guardar el gráfico como PNG\n",
    "grdevices.png(file=\"plot.png\", width=512, height=512, res=100)\n",
    "\n",
    "ro.r('''\n",
    "    #---Compras en la tienda---\n",
    "    hist(df$NumStorePurchases,main=NULL,xlab=\"Compras en la tienda\",ylab=\"Density\",col=gray(seq(0.9,0.4,length=10)),cex.axis=1.2,cex.lab=1.5,font.lab=1,freq=FALSE,xlim=c(0,20),ylim=c(0,0.3))\n",
    "''') \n",
    "\n",
    "# Verificar si algún dispositivo gráfico está abierto antes de cerrarlo\n",
    "if grdevices.dev_cur()[0] != 1:  # Verifica si el dispositivo no es el \"null device\"\n",
    "    grdevices.dev_off()\n",
    "# Mostrar el gráfico en el cuaderno Jupyter\n",
    "Image(filename=\"plot.png\")"
   ]
  },
  {
   "cell_type": "markdown",
   "id": "623d0405-c33c-43c4-be25-310a426bdb23",
   "metadata": {},
   "source": [
    "Se muestra la relacion de la densidad de la porblacion con el numeros de productos comprados en la tienda, el cual se oobserva que el punto de mas alto son `2` productos comprados empezando a descender la cantidad hasta mantenerse en un media `9 a 12` productos."
   ]
  },
  {
   "cell_type": "code",
   "execution_count": 25,
   "id": "bdcaf332-3c2b-4a63-bd40-c5ac26f64465",
   "metadata": {},
   "outputs": [
    {
     "data": {
      "image/png": "[encoded data removed]",
      "text/plain": [
       "<IPython.core.display.Image object>"
      ]
     },
     "execution_count": 25,
     "metadata": {},
     "output_type": "execute_result"
    }
   ],
   "source": [
    "# Abrir el dispositivo gráfico para guardar el gráfico como PNG\n",
    "grdevices.png(file=\"plot.png\", width=512, height=512, res=100)\n",
    "\n",
    "ro.r('''\n",
    "    #---Compras en la tienda---\n",
    "    hist(df$NumStorePurchases,main=NULL,xlab=\"Compras en la tienda\",ylab=\"Frequency\",col=gray(seq(0.9,0.4,length=10)),cex.axis=1.2,cex.lab=1.5,font.lab=1,freq=TRUE,xlim=c(0,15),ylim=c(0,1000))\n",
    "''') \n",
    "\n",
    "# Verificar si algún dispositivo gráfico está abierto antes de cerrarlo\n",
    "if grdevices.dev_cur()[0] != 1:  # Verifica si el dispositivo no es el \"null device\"\n",
    "    grdevices.dev_off()\n",
    "# Mostrar el gráfico en el cuaderno Jupyter\n",
    "Image(filename=\"plot.png\")"
   ]
  },
  {
   "cell_type": "markdown",
   "id": "610a3fe4-1c38-400c-b85e-c24b0acc2e78",
   "metadata": {},
   "source": [
    "Se muestra la relacion de la frecuencia de la porblacion con el numero de compras realizados en la tienda, el cual se oobserva que el punto de mas alto son `2` productos con una frecunecia aproximada de `500` compras empezando a descender la cantidad hasta mantenerse en un media `6 a 12` productos con una frecuencia aproximadamente de `170`."
   ]
  },
  {
   "cell_type": "code",
   "execution_count": 26,
   "id": "4d3e70d6-1d09-40c9-9ec9-cdd2341382e1",
   "metadata": {},
   "outputs": [
    {
     "data": {
      "image/png": "[encoded data removed]",
      "text/plain": [
       "<IPython.core.display.Image object>"
      ]
     },
     "execution_count": 26,
     "metadata": {},
     "output_type": "execute_result"
    }
   ],
   "source": [
    "# Abrir el dispositivo gráfico para guardar el gráfico como PNG\n",
    "grdevices.png(file=\"plot.png\", width=512, height=512, res=100)\n",
    "\n",
    "ro.r('''\n",
    "    #---Compras en la tienda---\n",
    "    boxplot(NumStorePurchases~Complain,df,horizontal=TRUE,xlab=\"Compras en la tienda\",ylab=\"Reclamo\",cex.lab=1.5,font.lab=1)\n",
    "    # Se muestra la relacion de las personas que hicieron reclamos por la cantidad de compras realizadas en \"tienda\" se puede observar que 3 es la media de reclamos\n",
    "    # y 5 la media que no Reclamaron, pero el cuadrante mas alto de reclamos son quienes compraron 13 productos por en la tienda, teniendo un punto importante a considerar por el tiempo que les lleva pasar en una caja.\n",
    "''') \n",
    "\n",
    "# Verificar si algún dispositivo gráfico está abierto antes de cerrarlo\n",
    "if grdevices.dev_cur()[0] != 1:  # Verifica si el dispositivo no es el \"null device\"\n",
    "    grdevices.dev_off()\n",
    "# Mostrar el gráfico en el cuaderno Jupyter\n",
    "Image(filename=\"plot.png\")"
   ]
  },
  {
   "cell_type": "markdown",
   "id": "344d9877-c697-4de7-ab8d-f022fe4e8309",
   "metadata": {},
   "source": [
    "Se muestra la relacion de las personas que hicieron reclamos por la cantidad de compras realizadas en \"tienda\" se puede observar que 3 es la media de reclamos y 5 la media que no Reclamaron, pero el cuadrante mas alto de reclamos son quienes compraron 13 productos por en la tienda, teniendo un punto importante a considerar por el tiempo que les lleva pasar en una caja."
   ]
  },
  {
   "cell_type": "code",
   "execution_count": 27,
   "id": "dc520b6e-dd48-49f4-b8a1-491952751d59",
   "metadata": {},
   "outputs": [
    {
     "data": {
      "image/png": "[encoded data removed]",
      "text/plain": [
       "<IPython.core.display.Image object>"
      ]
     },
     "execution_count": 27,
     "metadata": {},
     "output_type": "execute_result"
    }
   ],
   "source": [
    "# Abrir el dispositivo gráfico para guardar el gráfico como PNG\n",
    "grdevices.png(file=\"plot.png\", width=512, height=512, res=100)\n",
    "\n",
    "ro.r('''\n",
    "    #---Compras en sitio Web---\n",
    "    hist(df$NumWebPurchases,main=NULL,xlab=\"Compras en sitio Web\",ylab=\"Density\",col=gray(seq(0.9,0.4,length=10)),cex.axis=1.2,cex.lab=1.5,font.lab=1,freq=FALSE,xlim=c(0,20),ylim=c(0,0.2))\n",
    "''') \n",
    "\n",
    "# Verificar si algún dispositivo gráfico está abierto antes de cerrarlo\n",
    "if grdevices.dev_cur()[0] != 1:  # Verifica si el dispositivo no es el \"null device\"\n",
    "    grdevices.dev_off()\n",
    "# Mostrar el gráfico en el cuaderno Jupyter\n",
    "Image(filename=\"plot.png\")"
   ]
  },
  {
   "cell_type": "markdown",
   "id": "fe60467c-89f2-4e53-ba52-374cd502f758",
   "metadata": {},
   "source": [
    "Se muestra la relacion de la densidad de la porblacion con el numero deprodcutos comprados desde el sitio web, el cual se oobserva que el punto de mas alto son 1 producto comprado, empezando a descender la cantidad."
   ]
  },
  {
   "cell_type": "code",
   "execution_count": 28,
   "id": "a60afc40-22f6-4f3c-9450-1c84ad029821",
   "metadata": {},
   "outputs": [
    {
     "data": {
      "image/png": "[encoded data removed]",
      "text/plain": [
       "<IPython.core.display.Image object>"
      ]
     },
     "execution_count": 28,
     "metadata": {},
     "output_type": "execute_result"
    }
   ],
   "source": [
    "# Abrir el dispositivo gráfico para guardar el gráfico como PNG\n",
    "grdevices.png(file=\"plot.png\", width=512, height=512, res=100)\n",
    "\n",
    "ro.r('''\n",
    "    #---Compras en sitio Web---\n",
    "    hist(df$NumWebPurchases,main=NULL,xlab=\"Compras en sitio Web\",ylab=\"Frequency\",col=gray(seq(0.9,0.4,length=10)),cex.axis=1.2,cex.lab=1.5,font.lab=1,freq=TRUE,xlim=c(0,15),ylim=c(0,1000))\n",
    "''') \n",
    "\n",
    "# Verificar si algún dispositivo gráfico está abierto antes de cerrarlo\n",
    "if grdevices.dev_cur()[0] != 1:  # Verifica si el dispositivo no es el \"null device\"\n",
    "    grdevices.dev_off()\n",
    "# Mostrar el gráfico en el cuaderno Jupyter\n",
    "Image(filename=\"plot.png\")"
   ]
  },
  {
   "cell_type": "markdown",
   "id": "169f1cd1-3f8f-418f-888e-4ae95b7f89f0",
   "metadata": {},
   "source": [
    "Se muestra la relacion de la frecuencia de la porblacion con el numero de compras realizados en la tienda, el cual se oobserva que el punto de mas alto son 1 a 3 productos con una frecunecia aproximada de 790 compras empezando a descender la cantidad."
   ]
  },
  {
   "cell_type": "code",
   "execution_count": 29,
   "id": "d4c73d1e-9687-44bb-99b1-e0d57eb4f105",
   "metadata": {},
   "outputs": [
    {
     "data": {
      "image/png": "[encoded data removed]",
      "text/plain": [
       "<IPython.core.display.Image object>"
      ]
     },
     "execution_count": 29,
     "metadata": {},
     "output_type": "execute_result"
    }
   ],
   "source": [
    "# Abrir el dispositivo gráfico para guardar el gráfico como PNG\n",
    "grdevices.png(file=\"plot.png\", width=512, height=512, res=100)\n",
    "\n",
    "ro.r('''\n",
    "    boxplot(NumWebPurchases~Complain,df,horizontal=TRUE,xlab=\"Compras en sitio Web\",ylab=\"Reclamo\",cex.lab=1.5,font.lab=1)\n",
    "    # Se muestra la relacion de las personas que hicieron reclamos por la cantidad de compras realizadas en \"Sitio Web\" se puede observar que 3 es la media de reclamos\n",
    "    # y 4 No, pero el cuadrante mas alto de reclamos son quienes compraron 9 productos por el sitio web.\n",
    "\n",
    "''') \n",
    "\n",
    "# Verificar si algún dispositivo gráfico está abierto antes de cerrarlo\n",
    "if grdevices.dev_cur()[0] != 1:  # Verifica si el dispositivo no es el \"null device\"\n",
    "    grdevices.dev_off()\n",
    "# Mostrar el gráfico en el cuaderno Jupyter\n",
    "Image(filename=\"plot.png\")"
   ]
  },
  {
   "cell_type": "markdown",
   "id": "5a11975a-ff62-424e-aa85-0ced3f43e2ed",
   "metadata": {},
   "source": [
    "Se muestra la relacion de las personas que hicieron reclamos por la cantidad de compras realizadas en \"Sitio Web\" se puede observar que 3 es la media de reclamos y una media de `4` que No Reclamaron, pero el cuadrante mas alto de reclamos son quienes compraron `9` productos por el sitio web."
   ]
  },
  {
   "cell_type": "code",
   "execution_count": 30,
   "id": "a7f5c124-89e5-4bee-b656-7968d7f99cda",
   "metadata": {},
   "outputs": [
    {
     "data": {
      "image/png": "[encoded data removed]",
      "text/plain": [
       "<IPython.core.display.Image object>"
      ]
     },
     "execution_count": 30,
     "metadata": {},
     "output_type": "execute_result"
    }
   ],
   "source": [
    "# Abrir el dispositivo gráfico para guardar el gráfico como PNG\n",
    "grdevices.png(file=\"plot.png\", width=512, height=512, res=100)\n",
    "\n",
    "ro.r('''\n",
    "    # Diagrama de dispersión entre dos variables numéricas (muestra de datos)\n",
    "    df.sample <- df[1:200,]\n",
    "    plot(df.sample$NumDealsPurchases,df.sample$NumCatalogPurchases,xlab=\"Cant.  oferta\",ylab=\"Cant. Catalogo\",cex.lab=1.5,font.lab=1,pch=19)\n",
    "    # Se puede observa que la cantidad de productos comprado en catalogo 4 de esos producto eran con descuento, pero teniendo un punto \n",
    "    # disperso de 12 productos con ofertas entre ellos estan 2 que fueron realizados desde catalogo. \n",
    "\n",
    "''') \n",
    "\n",
    "# Verificar si algún dispositivo gráfico está abierto antes de cerrarlo\n",
    "if grdevices.dev_cur()[0] != 1:  # Verifica si el dispositivo no es el \"null device\"\n",
    "    grdevices.dev_off()\n",
    "# Mostrar el gráfico en el cuaderno Jupyter\n",
    "Image(filename=\"plot.png\")"
   ]
  },
  {
   "cell_type": "markdown",
   "id": "37b4b0f0-659f-45ed-8f4d-9ca798e4cadf",
   "metadata": {},
   "source": [
    "Se puede observa que la cantidad de productos comprados en `catalogo` 4 de esos producto eran con descuento, pero teniendo un punto disperso de 12 productos con ofertas entre ellos estan 2 que fueron realizados desde catalogo."
   ]
  },
  {
   "cell_type": "code",
   "execution_count": 31,
   "id": "99391623-f422-4345-a342-a294b5c8bb73",
   "metadata": {},
   "outputs": [
    {
     "data": {
      "image/png": "[encoded data removed]",
      "text/plain": [
       "<IPython.core.display.Image object>"
      ]
     },
     "execution_count": 31,
     "metadata": {},
     "output_type": "execute_result"
    }
   ],
   "source": [
    "# Abrir el dispositivo gráfico para guardar el gráfico como PNG\n",
    "grdevices.png(file=\"plot.png\", width=512, height=512, res=100)\n",
    "\n",
    "ro.r('''\n",
    "    # Diagrama de dispersión entre dos variables numéricas (muestra de datos)\n",
    "    df.sample <- df[1:200,]\n",
    "    plot(df.sample$NumDealsPurchases,df.sample$NumStorePurchases,xlab=\"Cant. Productos en ofert\",ylab=\"Cant.  tienda\",cex.lab=1.5,font.lab=1,pch=19)\n",
    "    # Se puede observa que la cantidad de productos comprado en la tienda 4 de esos producto eran con descuento, pero teniendo un punto \n",
    "    # disperso de 12 productos con ofertas entre ellos estan 8 que fueron realizados desde tienda. \n",
    "\n",
    "''') \n",
    "\n",
    "# Verificar si algún dispositivo gráfico está abierto antes de cerrarlo\n",
    "if grdevices.dev_cur()[0] != 1:  # Verifica si el dispositivo no es el \"null device\"\n",
    "    grdevices.dev_off()\n",
    "# Mostrar el gráfico en el cuaderno Jupyter\n",
    "Image(filename=\"plot.png\")"
   ]
  },
  {
   "cell_type": "markdown",
   "id": "4750229f-f6f1-4077-9ba5-ca4d9880021d",
   "metadata": {},
   "source": [
    "Se puede observa que la cantidad de productos comprado en `tienda` 4 de esos producto eran con descuento, pero teniendo un punto disperso de 12 productos con ofertas entre ellos estan 8 que fueron realizados desde tienda."
   ]
  },
  {
   "cell_type": "code",
   "execution_count": 32,
   "id": "5a56cd50-caf6-4629-b09f-de93108c2f66",
   "metadata": {},
   "outputs": [
    {
     "data": {
      "image/png": "[encoded data removed]",
      "text/plain": [
       "<IPython.core.display.Image object>"
      ]
     },
     "execution_count": 32,
     "metadata": {},
     "output_type": "execute_result"
    }
   ],
   "source": [
    "# Abrir el dispositivo gráfico para guardar el gráfico como PNG\n",
    "grdevices.png(file=\"plot.png\", width=512, height=512, res=100)\n",
    "\n",
    "ro.r('''\n",
    "    # Diagrama de dispersión entre dos variables numéricas (muestra de datos)\n",
    "    df.sample <- df[1:200,]\n",
    "    plot(df.sample$NumDealsPurchases,df.sample$NumWebPurchases,xlab=\"Cant. Productos en ofert\",ylab=\"Cant.Sitio Web\",cex.lab=1.5,font.lab=1,pch=19)\n",
    "    # Se puede observa que la cantidad de productos comprado en sitio web a de 1 a 4 de esos producto eran con descuento, pero teniendo un punto disperso \n",
    "    # de 12 productos con ofertas entre ellos estan 10 que fueron realizados desde sitio web.o \n",
    "\n",
    "''') \n",
    "\n",
    "# Verificar si algún dispositivo gráfico está abierto antes de cerrarlo\n",
    "if grdevices.dev_cur()[0] != 1:  # Verifica si el dispositivo no es el \"null device\"\n",
    "    grdevices.dev_off()\n",
    "# Mostrar el gráfico en el cuaderno Jupyter\n",
    "Image(filename=\"plot.png\")"
   ]
  },
  {
   "cell_type": "markdown",
   "id": "69180751-31b7-4a4b-bc66-d3bbb5189f75",
   "metadata": {},
   "source": [
    "Se puede observa que la cantidad de productos comprado en `sitio web` a de 1 a 4 de esos producto eran con descuento, pero teniendo un punto disperso de 12 productos con ofertas entre ellos estan 10 que fueron realizados desde sitio web."
   ]
  },
  {
   "cell_type": "code",
   "execution_count": 33,
   "id": "398548e9-98e3-4c87-b2d6-6bc6eb8f6a73",
   "metadata": {},
   "outputs": [
    {
     "data": {
      "image/png": "[encoded data removed]",
      "text/plain": [
       "<IPython.core.display.Image object>"
      ]
     },
     "execution_count": 33,
     "metadata": {},
     "output_type": "execute_result"
    }
   ],
   "source": [
    "# Abrir el dispositivo gráfico para guardar el gráfico como PNG\n",
    "grdevices.png(file=\"plot.png\", width=512, height=512, res=100)\n",
    "\n",
    "ro.r('''\n",
    "    #  ---NumDealsPurchases---\n",
    "    sum.NumDealsPurchases <- count(df,c(\"Complain\",\"NumDealsPurchases\"))\n",
    "    names(sum.NumDealsPurchases)[3] <- \"Num\"\n",
    "    plot <- ggplot(sum.NumDealsPurchases,aes(factor(NumDealsPurchases),Num,fill = Complain)) + geom_bar(stat=\"identity\", position = \"dodge\") + scale_color_distiller(palette = \"Set1\")\n",
    "    # Muestra todas las cantidad de productos comprados y en cuales se hicieron los reclamos segun la cantidad de productos comprados en descuentoa\n",
    "\n",
    "    print(plot)\n",
    "\n",
    "''') \n",
    "\n",
    "# Verificar si algún dispositivo gráfico está abierto antes de cerrarlo\n",
    "if grdevices.dev_cur()[0] != 1:  # Verifica si el dispositivo no es el \"null device\"\n",
    "    grdevices.dev_off()\n",
    "# Mostrar el gráfico en el cuaderno Jupyter\n",
    "Image(filename=\"plot.png\")"
   ]
  },
  {
   "cell_type": "markdown",
   "id": "9b04e4fd-1af3-4db1-a6fd-8696f423b0e4",
   "metadata": {},
   "source": [
    "Muestra todas las cantidad de productos comprados y en cuales se hicieron los reclamos, segun la cantidad de productos comprados en descuento"
   ]
  },
  {
   "cell_type": "code",
   "execution_count": 34,
   "id": "762f152b-8368-4fc9-8c99-d250f40d73cd",
   "metadata": {},
   "outputs": [
    {
     "data": {
      "image/png": "[encoded data removed]",
      "text/plain": [
       "<IPython.core.display.Image object>"
      ]
     },
     "execution_count": 34,
     "metadata": {},
     "output_type": "execute_result"
    }
   ],
   "source": [
    "# Abrir el dispositivo gráfico para guardar el gráfico como PNG\n",
    "grdevices.png(file=\"plot.png\", width=512, height=512, res=100)\n",
    "\n",
    "ro.r('''\n",
    "    #  ---NumStorePurchases---\n",
    "    sum.NumStorePurchases <- count(df,c(\"Complain\",\"NumStorePurchases\"))\n",
    "    names(sum.NumStorePurchases)[3] <- \"Num\"\n",
    "    plot <- ggplot(sum.NumStorePurchases,aes(factor(NumStorePurchases),Num,fill = Complain)) + geom_bar(stat=\"identity\", position = \"dodge\") + scale_color_distiller(palette = \"Set1\")\n",
    "    # Muestra todas las cantidad de productos comprados y en cuales se hicieron los reclamos segun la cantidad de productos comprados en la tienda\n",
    "\n",
    "    print(plot)\n",
    "\n",
    "''') \n",
    "\n",
    "# Verificar si algún dispositivo gráfico está abierto antes de cerrarlo\n",
    "if grdevices.dev_cur()[0] != 1:  # Verifica si el dispositivo no es el \"null device\"\n",
    "    grdevices.dev_off()\n",
    "# Mostrar el gráfico en el cuaderno Jupyter\n",
    "Image(filename=\"plot.png\")"
   ]
  },
  {
   "cell_type": "markdown",
   "id": "b33fc397-b128-4dd9-b412-e5e04cb11454",
   "metadata": {},
   "source": [
    "Muestra todas las cantidad de productos comprados y en cuales se hicieron los reclamos segun la cantidad de productos comprados en la tienda"
   ]
  },
  {
   "cell_type": "code",
   "execution_count": 35,
   "id": "2f6f5408-9025-484e-ba38-b7c086094f38",
   "metadata": {},
   "outputs": [
    {
     "data": {
      "image/png": "[encoded data removed]",
      "text/plain": [
       "<IPython.core.display.Image object>"
      ]
     },
     "execution_count": 35,
     "metadata": {},
     "output_type": "execute_result"
    }
   ],
   "source": [
    "# Abrir el dispositivo gráfico para guardar el gráfico como PNG\n",
    "grdevices.png(file=\"plot.png\", width=512, height=512, res=100)\n",
    "\n",
    "ro.r('''\n",
    "    #  ---NumWebPurchases---\n",
    "    sum.NumWebPurchases <- count(df,c(\"Complain\",\"NumWebPurchases\"))\n",
    "    names(sum.NumWebPurchases)[3] <- \"Num\"\n",
    "    plot <- ggplot(sum.NumWebPurchases,aes(factor(NumWebPurchases),Num,fill = Complain)) + geom_bar(stat=\"identity\", position = \"dodge\") + scale_color_distiller(palette = \"Set1\")\n",
    "    # Muestra todas las cantidad de productos comprados y en cuales se hicieron los reclamos segun la cantidad de productos comprados en sitio web\n",
    "\n",
    "    print(plot)\n",
    "\n",
    "''') \n",
    "\n",
    "# Verificar si algún dispositivo gráfico está abierto antes de cerrarlo\n",
    "if grdevices.dev_cur()[0] != 1:  # Verifica si el dispositivo no es el \"null device\"\n",
    "    grdevices.dev_off()\n",
    "# Mostrar el gráfico en el cuaderno Jupyter\n",
    "Image(filename=\"plot.png\")"
   ]
  },
  {
   "cell_type": "markdown",
   "id": "1a24c7e4-b729-4255-b4ee-ffd087a66577",
   "metadata": {},
   "source": [
    "Muestra todas las cantidad de productos comprados y en cuales se hicieron los reclamos segun la cantidad de productos comprados en sitio web"
   ]
  },
  {
   "cell_type": "code",
   "execution_count": 36,
   "id": "5b5e4153-3236-44ab-93f4-b9c47a4fe275",
   "metadata": {},
   "outputs": [
    {
     "data": {
      "image/png": "[encoded data removed]",
      "text/plain": [
       "<IPython.core.display.Image object>"
      ]
     },
     "execution_count": 36,
     "metadata": {},
     "output_type": "execute_result"
    }
   ],
   "source": [
    "# Abrir el dispositivo gráfico para guardar el gráfico como PNG\n",
    "grdevices.png(file=\"plot.png\", width=512, height=512, res=100)\n",
    "\n",
    "ro.r('''\n",
    "    #  ---NumCatalogPurchases---\n",
    "    sum.NumCatalogPurchases <- count(df,c(\"Complain\",\"NumCatalogPurchases\"))\n",
    "    names(sum.NumCatalogPurchases)[3] <- \"Num\"\n",
    "    plot <- ggplot(sum.NumCatalogPurchases,aes(factor(NumCatalogPurchases),Num,fill = Complain)) + geom_bar(stat=\"identity\", position = \"dodge\") + scale_color_distiller(palette = \"Set1\")\n",
    "    # Muestra todas las cantidad de productos comprados y en cuales se hicieron los reclamos segun la cantidad de productos comprados por catalogo\n",
    "\n",
    "    print(plot)\n",
    "\n",
    "''') \n",
    "\n",
    "# Verificar si algún dispositivo gráfico está abierto antes de cerrarlo\n",
    "if grdevices.dev_cur()[0] != 1:  # Verifica si el dispositivo no es el \"null device\"\n",
    "    grdevices.dev_off()\n",
    "# Mostrar el gráfico en el cuaderno Jupyter\n",
    "Image(filename=\"plot.png\")"
   ]
  },
  {
   "cell_type": "markdown",
   "id": "61e2637e-7748-4adb-b916-61e7406be76f",
   "metadata": {},
   "source": [
    "Muestra todas las cantidad de productos comprados y en cuales se hicieron los reclamos segun la cantidad de productos comprados por catalogo"
   ]
  },
  {
   "cell_type": "code",
   "execution_count": null,
   "id": "79138961-e351-48d4-8bca-b6f64fb326a9",
   "metadata": {},
   "outputs": [],
   "source": []
  }
 ],
 "metadata": {
  "kernelspec": {
   "display_name": "Python 3 (ipykernel)",
   "language": "python",
   "name": "python3"
  },
  "language_info": {
   "codemirror_mode": {
    "name": "ipython",
    "version": 3
   },
   "file_extension": ".py",
   "mimetype": "text/x-python",
   "name": "python",
   "nbconvert_exporter": "python",
   "pygments_lexer": "ipython3",
   "version": "3.12.5"
  }
 },
 "nbformat": 4,
 "nbformat_minor": 5
}
